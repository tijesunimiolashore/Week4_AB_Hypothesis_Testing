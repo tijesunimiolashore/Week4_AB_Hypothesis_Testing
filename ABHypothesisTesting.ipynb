{
  "nbformat": 4,
  "nbformat_minor": 0,
  "metadata": {
    "colab": {
      "name": "ABHypothesisTesting_(6)_(1) (3).ipynb",
      "provenance": [],
      "collapsed_sections": []
    },
    "kernelspec": {
      "name": "python3",
      "display_name": "Python 3"
    }
  },
  "cells": [
    {
      "cell_type": "markdown",
      "metadata": {
        "id": "OQgLOonsDpjT",
        "colab_type": "text"
      },
      "source": [
        "## Summary of task on A/B testing analysis.\n"
      ]
    },
    {
      "cell_type": "markdown",
      "metadata": {
        "id": "0c3liE0_B2Vr",
        "colab_type": "text"
      },
      "source": [
        "#### As a data scientist in SmartAd adevertising company, one of your tasks is to design a reliable hypothesis testing  algorithm for the BIO service and to determine whether a recent advertising campaign resulted in a significant lift in brand awareness.\n",
        "\n",
        "#### Hypothesis testing is the cornerstone of evidence based decision making. The A/B testing framework is the most used statistical framework for making gradual but important changes in every aspect of today’s business.  "
      ]
    },
    {
      "cell_type": "markdown",
      "metadata": {
        "id": "nwgk1W-R8XwU",
        "colab_type": "text"
      },
      "source": [
        "**Table of content**\n",
        "\n",
        "1.   Uploaded my database file to my project.\n",
        "2.   Import libraries.\n",
        "3.   Read the csv file to a pandas dataframe.\n",
        "    * Get the information about each columns in the database.\n",
        "4.   Classic and sequential A/B testing analysis\n",
        "    * Perform data exploration to count unique values of categorical variables, make histogram, relational, and other necessary plots to help understand the data. For each of the plots you produce, write a description of what the plot shows in markdown cells.\n",
        "    * Perform hypothesis testing: apply the classical p-value based algorithm and the  sequential A/B testing algorithm for which a starter code is provided..\n",
        "    * Are the number of data points in the experiment enough to make a reasonable judgement or should the company run a longer experiment? Remember that running the experiment longer may be costly for many reasons, so you should always optimize the number of samples to make a statistically sound decision.\n",
        "    * What does your A/B testing analysis tell you? Is brand awareness increased for the exposed group?\n",
        "5.   Machine Learning\n",
        "    * In max three statements, make a problem formulation for machine learning and specify the target variable\n",
        "    * Split the data into 70% training, 20% validation, and 10% test sets. \n",
        "    * Based on the reading material provided, apply machine learning to the training data. Train a machine learning model using 5-fold cross validation the following 3 different algorithms:\n",
        "      * Logistic Regression \n",
        "      * Decision Trees\n",
        "      * XGBoost\n",
        "    * Define the appropriate loss function  for the model using the validation data. \n",
        "    * Compute feature importance - what’s driving the model? Which parameters are important predictors for the different ML models? What contributes to the goal of gaining more “Yes” results?\n",
        "    * Which data features are relevant to predicting the target variable?\n",
        "    * Explain what the difference is between using A/B testing to test a hypothesis vs using Machine learning to learn the viability of the same effect?\n",
        "    * Explain the purpose of training using k-fold cross validation instead of using the whole data to train the ML models?\n",
        "    * What information do you gain using the Machine Learning approach that you couldn’t obtain using A/B testing?\n",
        "\n",
        "\n",
        "\n",
        "\n"
      ]
    },
    {
      "cell_type": "markdown",
      "metadata": {
        "id": "wgfxcEARCe4Q",
        "colab_type": "text"
      },
      "source": [
        "**1. Uploaded my database file to my project.**"
      ]
    },
    {
      "cell_type": "code",
      "metadata": {
        "id": "bXeMzy--9QX_",
        "colab_type": "code",
        "colab": {
          "resources": {
            "http://localhost:8080/nbextensions/google.colab/files.js": {
              "data": "Ly8gQ29weXJpZ2h0IDIwMTcgR29vZ2xlIExMQwovLwovLyBMaWNlbnNlZCB1bmRlciB0aGUgQXBhY2hlIExpY2Vuc2UsIFZlcnNpb24gMi4wICh0aGUgIkxpY2Vuc2UiKTsKLy8geW91IG1heSBub3QgdXNlIHRoaXMgZmlsZSBleGNlcHQgaW4gY29tcGxpYW5jZSB3aXRoIHRoZSBMaWNlbnNlLgovLyBZb3UgbWF5IG9idGFpbiBhIGNvcHkgb2YgdGhlIExpY2Vuc2UgYXQKLy8KLy8gICAgICBodHRwOi8vd3d3LmFwYWNoZS5vcmcvbGljZW5zZXMvTElDRU5TRS0yLjAKLy8KLy8gVW5sZXNzIHJlcXVpcmVkIGJ5IGFwcGxpY2FibGUgbGF3IG9yIGFncmVlZCB0byBpbiB3cml0aW5nLCBzb2Z0d2FyZQovLyBkaXN0cmlidXRlZCB1bmRlciB0aGUgTGljZW5zZSBpcyBkaXN0cmlidXRlZCBvbiBhbiAiQVMgSVMiIEJBU0lTLAovLyBXSVRIT1VUIFdBUlJBTlRJRVMgT1IgQ09ORElUSU9OUyBPRiBBTlkgS0lORCwgZWl0aGVyIGV4cHJlc3Mgb3IgaW1wbGllZC4KLy8gU2VlIHRoZSBMaWNlbnNlIGZvciB0aGUgc3BlY2lmaWMgbGFuZ3VhZ2UgZ292ZXJuaW5nIHBlcm1pc3Npb25zIGFuZAovLyBsaW1pdGF0aW9ucyB1bmRlciB0aGUgTGljZW5zZS4KCi8qKgogKiBAZmlsZW92ZXJ2aWV3IEhlbHBlcnMgZm9yIGdvb2dsZS5jb2xhYiBQeXRob24gbW9kdWxlLgogKi8KKGZ1bmN0aW9uKHNjb3BlKSB7CmZ1bmN0aW9uIHNwYW4odGV4dCwgc3R5bGVBdHRyaWJ1dGVzID0ge30pIHsKICBjb25zdCBlbGVtZW50ID0gZG9jdW1lbnQuY3JlYXRlRWxlbWVudCgnc3BhbicpOwogIGVsZW1lbnQudGV4dENvbnRlbnQgPSB0ZXh0OwogIGZvciAoY29uc3Qga2V5IG9mIE9iamVjdC5rZXlzKHN0eWxlQXR0cmlidXRlcykpIHsKICAgIGVsZW1lbnQuc3R5bGVba2V5XSA9IHN0eWxlQXR0cmlidXRlc1trZXldOwogIH0KICByZXR1cm4gZWxlbWVudDsKfQoKLy8gTWF4IG51bWJlciBvZiBieXRlcyB3aGljaCB3aWxsIGJlIHVwbG9hZGVkIGF0IGEgdGltZS4KY29uc3QgTUFYX1BBWUxPQURfU0laRSA9IDEwMCAqIDEwMjQ7CgpmdW5jdGlvbiBfdXBsb2FkRmlsZXMoaW5wdXRJZCwgb3V0cHV0SWQpIHsKICBjb25zdCBzdGVwcyA9IHVwbG9hZEZpbGVzU3RlcChpbnB1dElkLCBvdXRwdXRJZCk7CiAgY29uc3Qgb3V0cHV0RWxlbWVudCA9IGRvY3VtZW50LmdldEVsZW1lbnRCeUlkKG91dHB1dElkKTsKICAvLyBDYWNoZSBzdGVwcyBvbiB0aGUgb3V0cHV0RWxlbWVudCB0byBtYWtlIGl0IGF2YWlsYWJsZSBmb3IgdGhlIG5leHQgY2FsbAogIC8vIHRvIHVwbG9hZEZpbGVzQ29udGludWUgZnJvbSBQeXRob24uCiAgb3V0cHV0RWxlbWVudC5zdGVwcyA9IHN0ZXBzOwoKICByZXR1cm4gX3VwbG9hZEZpbGVzQ29udGludWUob3V0cHV0SWQpOwp9CgovLyBUaGlzIGlzIHJvdWdobHkgYW4gYXN5bmMgZ2VuZXJhdG9yIChub3Qgc3VwcG9ydGVkIGluIHRoZSBicm93c2VyIHlldCksCi8vIHdoZXJlIHRoZXJlIGFyZSBtdWx0aXBsZSBhc3luY2hyb25vdXMgc3RlcHMgYW5kIHRoZSBQeXRob24gc2lkZSBpcyBnb2luZwovLyB0byBwb2xsIGZvciBjb21wbGV0aW9uIG9mIGVhY2ggc3RlcC4KLy8gVGhpcyB1c2VzIGEgUHJvbWlzZSB0byBibG9jayB0aGUgcHl0aG9uIHNpZGUgb24gY29tcGxldGlvbiBvZiBlYWNoIHN0ZXAsCi8vIHRoZW4gcGFzc2VzIHRoZSByZXN1bHQgb2YgdGhlIHByZXZpb3VzIHN0ZXAgYXMgdGhlIGlucHV0IHRvIHRoZSBuZXh0IHN0ZXAuCmZ1bmN0aW9uIF91cGxvYWRGaWxlc0NvbnRpbnVlKG91dHB1dElkKSB7CiAgY29uc3Qgb3V0cHV0RWxlbWVudCA9IGRvY3VtZW50LmdldEVsZW1lbnRCeUlkKG91dHB1dElkKTsKICBjb25zdCBzdGVwcyA9IG91dHB1dEVsZW1lbnQuc3RlcHM7CgogIGNvbnN0IG5leHQgPSBzdGVwcy5uZXh0KG91dHB1dEVsZW1lbnQubGFzdFByb21pc2VWYWx1ZSk7CiAgcmV0dXJuIFByb21pc2UucmVzb2x2ZShuZXh0LnZhbHVlLnByb21pc2UpLnRoZW4oKHZhbHVlKSA9PiB7CiAgICAvLyBDYWNoZSB0aGUgbGFzdCBwcm9taXNlIHZhbHVlIHRvIG1ha2UgaXQgYXZhaWxhYmxlIHRvIHRoZSBuZXh0CiAgICAvLyBzdGVwIG9mIHRoZSBnZW5lcmF0b3IuCiAgICBvdXRwdXRFbGVtZW50Lmxhc3RQcm9taXNlVmFsdWUgPSB2YWx1ZTsKICAgIHJldHVybiBuZXh0LnZhbHVlLnJlc3BvbnNlOwogIH0pOwp9CgovKioKICogR2VuZXJhdG9yIGZ1bmN0aW9uIHdoaWNoIGlzIGNhbGxlZCBiZXR3ZWVuIGVhY2ggYXN5bmMgc3RlcCBvZiB0aGUgdXBsb2FkCiAqIHByb2Nlc3MuCiAqIEBwYXJhbSB7c3RyaW5nfSBpbnB1dElkIEVsZW1lbnQgSUQgb2YgdGhlIGlucHV0IGZpbGUgcGlja2VyIGVsZW1lbnQuCiAqIEBwYXJhbSB7c3RyaW5nfSBvdXRwdXRJZCBFbGVtZW50IElEIG9mIHRoZSBvdXRwdXQgZGlzcGxheS4KICogQHJldHVybiB7IUl0ZXJhYmxlPCFPYmplY3Q+fSBJdGVyYWJsZSBvZiBuZXh0IHN0ZXBzLgogKi8KZnVuY3Rpb24qIHVwbG9hZEZpbGVzU3RlcChpbnB1dElkLCBvdXRwdXRJZCkgewogIGNvbnN0IGlucHV0RWxlbWVudCA9IGRvY3VtZW50LmdldEVsZW1lbnRCeUlkKGlucHV0SWQpOwogIGlucHV0RWxlbWVudC5kaXNhYmxlZCA9IGZhbHNlOwoKICBjb25zdCBvdXRwdXRFbGVtZW50ID0gZG9jdW1lbnQuZ2V0RWxlbWVudEJ5SWQob3V0cHV0SWQpOwogIG91dHB1dEVsZW1lbnQuaW5uZXJIVE1MID0gJyc7CgogIGNvbnN0IHBpY2tlZFByb21pc2UgPSBuZXcgUHJvbWlzZSgocmVzb2x2ZSkgPT4gewogICAgaW5wdXRFbGVtZW50LmFkZEV2ZW50TGlzdGVuZXIoJ2NoYW5nZScsIChlKSA9PiB7CiAgICAgIHJlc29sdmUoZS50YXJnZXQuZmlsZXMpOwogICAgfSk7CiAgfSk7CgogIGNvbnN0IGNhbmNlbCA9IGRvY3VtZW50LmNyZWF0ZUVsZW1lbnQoJ2J1dHRvbicpOwogIGlucHV0RWxlbWVudC5wYXJlbnRFbGVtZW50LmFwcGVuZENoaWxkKGNhbmNlbCk7CiAgY2FuY2VsLnRleHRDb250ZW50ID0gJ0NhbmNlbCB1cGxvYWQnOwogIGNvbnN0IGNhbmNlbFByb21pc2UgPSBuZXcgUHJvbWlzZSgocmVzb2x2ZSkgPT4gewogICAgY2FuY2VsLm9uY2xpY2sgPSAoKSA9PiB7CiAgICAgIHJlc29sdmUobnVsbCk7CiAgICB9OwogIH0pOwoKICAvLyBXYWl0IGZvciB0aGUgdXNlciB0byBwaWNrIHRoZSBmaWxlcy4KICBjb25zdCBmaWxlcyA9IHlpZWxkIHsKICAgIHByb21pc2U6IFByb21pc2UucmFjZShbcGlja2VkUHJvbWlzZSwgY2FuY2VsUHJvbWlzZV0pLAogICAgcmVzcG9uc2U6IHsKICAgICAgYWN0aW9uOiAnc3RhcnRpbmcnLAogICAgfQogIH07CgogIGNhbmNlbC5yZW1vdmUoKTsKCiAgLy8gRGlzYWJsZSB0aGUgaW5wdXQgZWxlbWVudCBzaW5jZSBmdXJ0aGVyIHBpY2tzIGFyZSBub3QgYWxsb3dlZC4KICBpbnB1dEVsZW1lbnQuZGlzYWJsZWQgPSB0cnVlOwoKICBpZiAoIWZpbGVzKSB7CiAgICByZXR1cm4gewogICAgICByZXNwb25zZTogewogICAgICAgIGFjdGlvbjogJ2NvbXBsZXRlJywKICAgICAgfQogICAgfTsKICB9CgogIGZvciAoY29uc3QgZmlsZSBvZiBmaWxlcykgewogICAgY29uc3QgbGkgPSBkb2N1bWVudC5jcmVhdGVFbGVtZW50KCdsaScpOwogICAgbGkuYXBwZW5kKHNwYW4oZmlsZS5uYW1lLCB7Zm9udFdlaWdodDogJ2JvbGQnfSkpOwogICAgbGkuYXBwZW5kKHNwYW4oCiAgICAgICAgYCgke2ZpbGUudHlwZSB8fCAnbi9hJ30pIC0gJHtmaWxlLnNpemV9IGJ5dGVzLCBgICsKICAgICAgICBgbGFzdCBtb2RpZmllZDogJHsKICAgICAgICAgICAgZmlsZS5sYXN0TW9kaWZpZWREYXRlID8gZmlsZS5sYXN0TW9kaWZpZWREYXRlLnRvTG9jYWxlRGF0ZVN0cmluZygpIDoKICAgICAgICAgICAgICAgICAgICAgICAgICAgICAgICAgICAgJ24vYSd9IC0gYCkpOwogICAgY29uc3QgcGVyY2VudCA9IHNwYW4oJzAlIGRvbmUnKTsKICAgIGxpLmFwcGVuZENoaWxkKHBlcmNlbnQpOwoKICAgIG91dHB1dEVsZW1lbnQuYXBwZW5kQ2hpbGQobGkpOwoKICAgIGNvbnN0IGZpbGVEYXRhUHJvbWlzZSA9IG5ldyBQcm9taXNlKChyZXNvbHZlKSA9PiB7CiAgICAgIGNvbnN0IHJlYWRlciA9IG5ldyBGaWxlUmVhZGVyKCk7CiAgICAgIHJlYWRlci5vbmxvYWQgPSAoZSkgPT4gewogICAgICAgIHJlc29sdmUoZS50YXJnZXQucmVzdWx0KTsKICAgICAgfTsKICAgICAgcmVhZGVyLnJlYWRBc0FycmF5QnVmZmVyKGZpbGUpOwogICAgfSk7CiAgICAvLyBXYWl0IGZvciB0aGUgZGF0YSB0byBiZSByZWFkeS4KICAgIGxldCBmaWxlRGF0YSA9IHlpZWxkIHsKICAgICAgcHJvbWlzZTogZmlsZURhdGFQcm9taXNlLAogICAgICByZXNwb25zZTogewogICAgICAgIGFjdGlvbjogJ2NvbnRpbnVlJywKICAgICAgfQogICAgfTsKCiAgICAvLyBVc2UgYSBjaHVua2VkIHNlbmRpbmcgdG8gYXZvaWQgbWVzc2FnZSBzaXplIGxpbWl0cy4gU2VlIGIvNjIxMTU2NjAuCiAgICBsZXQgcG9zaXRpb24gPSAwOwogICAgd2hpbGUgKHBvc2l0aW9uIDwgZmlsZURhdGEuYnl0ZUxlbmd0aCkgewogICAgICBjb25zdCBsZW5ndGggPSBNYXRoLm1pbihmaWxlRGF0YS5ieXRlTGVuZ3RoIC0gcG9zaXRpb24sIE1BWF9QQVlMT0FEX1NJWkUpOwogICAgICBjb25zdCBjaHVuayA9IG5ldyBVaW50OEFycmF5KGZpbGVEYXRhLCBwb3NpdGlvbiwgbGVuZ3RoKTsKICAgICAgcG9zaXRpb24gKz0gbGVuZ3RoOwoKICAgICAgY29uc3QgYmFzZTY0ID0gYnRvYShTdHJpbmcuZnJvbUNoYXJDb2RlLmFwcGx5KG51bGwsIGNodW5rKSk7CiAgICAgIHlpZWxkIHsKICAgICAgICByZXNwb25zZTogewogICAgICAgICAgYWN0aW9uOiAnYXBwZW5kJywKICAgICAgICAgIGZpbGU6IGZpbGUubmFtZSwKICAgICAgICAgIGRhdGE6IGJhc2U2NCwKICAgICAgICB9LAogICAgICB9OwogICAgICBwZXJjZW50LnRleHRDb250ZW50ID0KICAgICAgICAgIGAke01hdGgucm91bmQoKHBvc2l0aW9uIC8gZmlsZURhdGEuYnl0ZUxlbmd0aCkgKiAxMDApfSUgZG9uZWA7CiAgICB9CiAgfQoKICAvLyBBbGwgZG9uZS4KICB5aWVsZCB7CiAgICByZXNwb25zZTogewogICAgICBhY3Rpb246ICdjb21wbGV0ZScsCiAgICB9CiAgfTsKfQoKc2NvcGUuZ29vZ2xlID0gc2NvcGUuZ29vZ2xlIHx8IHt9OwpzY29wZS5nb29nbGUuY29sYWIgPSBzY29wZS5nb29nbGUuY29sYWIgfHwge307CnNjb3BlLmdvb2dsZS5jb2xhYi5fZmlsZXMgPSB7CiAgX3VwbG9hZEZpbGVzLAogIF91cGxvYWRGaWxlc0NvbnRpbnVlLAp9Owp9KShzZWxmKTsK",
              "ok": true,
              "headers": [
                [
                  "content-type",
                  "application/javascript"
                ]
              ],
              "status": 200,
              "status_text": ""
            }
          },
          "base_uri": "https://localhost:8080/",
          "height": 70
        },
        "outputId": "1c9b2c98-6f34-403a-9c56-ffcf4b133955"
      },
      "source": [
        "from google.colab import files\n",
        "uploaded = files.upload()"
      ],
      "execution_count": null,
      "outputs": [
        {
          "output_type": "display_data",
          "data": {
            "text/html": [
              "\n",
              "     <input type=\"file\" id=\"files-734b9ab5-61a7-41ca-b807-4a533189c389\" name=\"files[]\" multiple disabled\n",
              "        style=\"border:none\" />\n",
              "     <output id=\"result-734b9ab5-61a7-41ca-b807-4a533189c389\">\n",
              "      Upload widget is only available when the cell has been executed in the\n",
              "      current browser session. Please rerun this cell to enable.\n",
              "      </output>\n",
              "      <script src=\"/nbextensions/google.colab/files.js\"></script> "
            ],
            "text/plain": [
              "<IPython.core.display.HTML object>"
            ]
          },
          "metadata": {
            "tags": []
          }
        },
        {
          "output_type": "stream",
          "text": [
            "Saving AdSmartABdata (1).csv to AdSmartABdata (1).csv\n"
          ],
          "name": "stdout"
        }
      ]
    },
    {
      "cell_type": "markdown",
      "metadata": {
        "id": "rwl6ukMJyUc5",
        "colab_type": "text"
      },
      "source": [
        "**2. Import libraries.**"
      ]
    },
    {
      "cell_type": "code",
      "metadata": {
        "id": "i6jGw2NnyTqf",
        "colab_type": "code",
        "colab": {
          "base_uri": "https://localhost:8080/",
          "height": 50
        },
        "outputId": "1fa64069-0e5b-4a1b-90e1-6e37b8d684d1"
      },
      "source": [
        "import io\n",
        "import pandas as pd \n",
        "import seaborn as sns\n",
        "import matplotlib.ticker as ticker\n",
        "import matplotlib.cm as cm\n",
        "import matplotlib as mpl\n",
        "from matplotlib.gridspec import GridSpec\n",
        "import matplotlib.pyplot as plt\n",
        "\n",
        "import numpy as np  \n",
        "import matplotlib.pyplot as plt  \n",
        "from sklearn.model_selection import train_test_split \n",
        "from sklearn.linear_model import LinearRegression\n",
        "from sklearn import metrics\n",
        "%matplotlib inline"
      ],
      "execution_count": null,
      "outputs": [
        {
          "output_type": "stream",
          "text": [
            "/usr/local/lib/python3.6/dist-packages/statsmodels/tools/_testing.py:19: FutureWarning: pandas.util.testing is deprecated. Use the functions in the public API at pandas.testing instead.\n",
            "  import pandas.util.testing as tm\n"
          ],
          "name": "stderr"
        }
      ]
    },
    {
      "cell_type": "markdown",
      "metadata": {
        "id": "f4FngLGNCoXc",
        "colab_type": "text"
      },
      "source": [
        "**3. Read the csv file to a pandas dataframe.**"
      ]
    },
    {
      "cell_type": "code",
      "metadata": {
        "id": "FUWJnPYt-Vap",
        "colab_type": "code",
        "colab": {
          "base_uri": "https://localhost:8080/",
          "height": 191
        },
        "outputId": "76a2545f-d0f1-42b3-d1c9-4f049ec3bccd"
      },
      "source": [
        "df = pd.read_csv(io.BytesIO(uploaded['AdSmartABdata (1).csv']))\n",
        "df.head()\n",
        "\n",
        "df2 = pd.read_csv(io.BytesIO(uploaded['AdSmartABdata (1).csv']))\n",
        "df2.head()"
      ],
      "execution_count": 38,
      "outputs": [
        {
          "output_type": "execute_result",
          "data": {
            "text/html": [
              "<div>\n",
              "<style scoped>\n",
              "    .dataframe tbody tr th:only-of-type {\n",
              "        vertical-align: middle;\n",
              "    }\n",
              "\n",
              "    .dataframe tbody tr th {\n",
              "        vertical-align: top;\n",
              "    }\n",
              "\n",
              "    .dataframe thead th {\n",
              "        text-align: right;\n",
              "    }\n",
              "</style>\n",
              "<table border=\"1\" class=\"dataframe\">\n",
              "  <thead>\n",
              "    <tr style=\"text-align: right;\">\n",
              "      <th></th>\n",
              "      <th>auction_id</th>\n",
              "      <th>experiment</th>\n",
              "      <th>date</th>\n",
              "      <th>hour</th>\n",
              "      <th>device_make</th>\n",
              "      <th>platform_os</th>\n",
              "      <th>browser</th>\n",
              "      <th>yes</th>\n",
              "      <th>no</th>\n",
              "    </tr>\n",
              "  </thead>\n",
              "  <tbody>\n",
              "    <tr>\n",
              "      <th>0</th>\n",
              "      <td>0008ef63-77a7-448b-bd1e-075f42c55e39</td>\n",
              "      <td>exposed</td>\n",
              "      <td>2020-07-10</td>\n",
              "      <td>8</td>\n",
              "      <td>Generic Smartphone</td>\n",
              "      <td>6</td>\n",
              "      <td>Chrome Mobile</td>\n",
              "      <td>0</td>\n",
              "      <td>0</td>\n",
              "    </tr>\n",
              "    <tr>\n",
              "      <th>1</th>\n",
              "      <td>000eabc5-17ce-4137-8efe-44734d914446</td>\n",
              "      <td>exposed</td>\n",
              "      <td>2020-07-07</td>\n",
              "      <td>10</td>\n",
              "      <td>Generic Smartphone</td>\n",
              "      <td>6</td>\n",
              "      <td>Chrome Mobile</td>\n",
              "      <td>0</td>\n",
              "      <td>0</td>\n",
              "    </tr>\n",
              "    <tr>\n",
              "      <th>2</th>\n",
              "      <td>0016d14a-ae18-4a02-a204-6ba53b52f2ed</td>\n",
              "      <td>exposed</td>\n",
              "      <td>2020-07-05</td>\n",
              "      <td>2</td>\n",
              "      <td>E5823</td>\n",
              "      <td>6</td>\n",
              "      <td>Chrome Mobile WebView</td>\n",
              "      <td>0</td>\n",
              "      <td>1</td>\n",
              "    </tr>\n",
              "    <tr>\n",
              "      <th>3</th>\n",
              "      <td>00187412-2932-4542-a8ef-3633901c98d9</td>\n",
              "      <td>control</td>\n",
              "      <td>2020-07-03</td>\n",
              "      <td>15</td>\n",
              "      <td>Samsung SM-A705FN</td>\n",
              "      <td>6</td>\n",
              "      <td>Facebook</td>\n",
              "      <td>0</td>\n",
              "      <td>0</td>\n",
              "    </tr>\n",
              "    <tr>\n",
              "      <th>4</th>\n",
              "      <td>001a7785-d3fe-4e11-a344-c8735acacc2c</td>\n",
              "      <td>control</td>\n",
              "      <td>2020-07-03</td>\n",
              "      <td>15</td>\n",
              "      <td>Generic Smartphone</td>\n",
              "      <td>6</td>\n",
              "      <td>Chrome Mobile</td>\n",
              "      <td>0</td>\n",
              "      <td>0</td>\n",
              "    </tr>\n",
              "  </tbody>\n",
              "</table>\n",
              "</div>"
            ],
            "text/plain": [
              "                             auction_id experiment  ... yes  no\n",
              "0  0008ef63-77a7-448b-bd1e-075f42c55e39    exposed  ...   0   0\n",
              "1  000eabc5-17ce-4137-8efe-44734d914446    exposed  ...   0   0\n",
              "2  0016d14a-ae18-4a02-a204-6ba53b52f2ed    exposed  ...   0   1\n",
              "3  00187412-2932-4542-a8ef-3633901c98d9    control  ...   0   0\n",
              "4  001a7785-d3fe-4e11-a344-c8735acacc2c    control  ...   0   0\n",
              "\n",
              "[5 rows x 9 columns]"
            ]
          },
          "metadata": {
            "tags": []
          },
          "execution_count": 38
        }
      ]
    },
    {
      "cell_type": "markdown",
      "metadata": {
        "id": "pUVnGa3DFlQT",
        "colab_type": "text"
      },
      "source": [
        "**Got the datatype of each columns in the database.**"
      ]
    },
    {
      "cell_type": "code",
      "metadata": {
        "id": "2UKirj77FiSl",
        "colab_type": "code",
        "colab": {
          "base_uri": "https://localhost:8080/",
          "height": 277
        },
        "outputId": "b4992bc9-0282-4914-9901-2f4926c830cb"
      },
      "source": [
        "df.info()"
      ],
      "execution_count": null,
      "outputs": [
        {
          "output_type": "stream",
          "text": [
            "<class 'pandas.core.frame.DataFrame'>\n",
            "RangeIndex: 8077 entries, 0 to 8076\n",
            "Data columns (total 9 columns):\n",
            " #   Column       Non-Null Count  Dtype \n",
            "---  ------       --------------  ----- \n",
            " 0   auction_id   8077 non-null   object\n",
            " 1   experiment   8077 non-null   object\n",
            " 2   date         8077 non-null   object\n",
            " 3   hour         8077 non-null   int64 \n",
            " 4   device_make  8077 non-null   object\n",
            " 5   platform_os  8077 non-null   int64 \n",
            " 6   browser      8077 non-null   object\n",
            " 7   yes          8077 non-null   int64 \n",
            " 8   no           8077 non-null   int64 \n",
            "dtypes: int64(4), object(5)\n",
            "memory usage: 568.0+ KB\n"
          ],
          "name": "stdout"
        }
      ]
    },
    {
      "cell_type": "markdown",
      "metadata": {
        "id": "XFQ4BcpwFPk_",
        "colab_type": "text"
      },
      "source": [
        "**Got the information about each columns in the database like the counts, frequency, unique values etc.**"
      ]
    },
    {
      "cell_type": "code",
      "metadata": {
        "id": "75FqZ-9JF5bD",
        "colab_type": "code",
        "colab": {
          "base_uri": "https://localhost:8080/",
          "height": 363
        },
        "outputId": "d4f6dee6-b36c-49e5-98a6-0462a1d6d4d4"
      },
      "source": [
        "df.describe(include='all')"
      ],
      "execution_count": null,
      "outputs": [
        {
          "output_type": "execute_result",
          "data": {
            "text/html": [
              "<div>\n",
              "<style scoped>\n",
              "    .dataframe tbody tr th:only-of-type {\n",
              "        vertical-align: middle;\n",
              "    }\n",
              "\n",
              "    .dataframe tbody tr th {\n",
              "        vertical-align: top;\n",
              "    }\n",
              "\n",
              "    .dataframe thead th {\n",
              "        text-align: right;\n",
              "    }\n",
              "</style>\n",
              "<table border=\"1\" class=\"dataframe\">\n",
              "  <thead>\n",
              "    <tr style=\"text-align: right;\">\n",
              "      <th></th>\n",
              "      <th>auction_id</th>\n",
              "      <th>experiment</th>\n",
              "      <th>date</th>\n",
              "      <th>hour</th>\n",
              "      <th>device_make</th>\n",
              "      <th>platform_os</th>\n",
              "      <th>browser</th>\n",
              "      <th>yes</th>\n",
              "      <th>no</th>\n",
              "    </tr>\n",
              "  </thead>\n",
              "  <tbody>\n",
              "    <tr>\n",
              "      <th>count</th>\n",
              "      <td>8077</td>\n",
              "      <td>8077</td>\n",
              "      <td>8077</td>\n",
              "      <td>8077.000000</td>\n",
              "      <td>8077</td>\n",
              "      <td>8077.000000</td>\n",
              "      <td>8077</td>\n",
              "      <td>8077.000000</td>\n",
              "      <td>8077.000000</td>\n",
              "    </tr>\n",
              "    <tr>\n",
              "      <th>unique</th>\n",
              "      <td>8077</td>\n",
              "      <td>2</td>\n",
              "      <td>8</td>\n",
              "      <td>NaN</td>\n",
              "      <td>270</td>\n",
              "      <td>NaN</td>\n",
              "      <td>15</td>\n",
              "      <td>NaN</td>\n",
              "      <td>NaN</td>\n",
              "    </tr>\n",
              "    <tr>\n",
              "      <th>top</th>\n",
              "      <td>1428e0f2-b9b4-4a73-90cb-063b7bc0ef92</td>\n",
              "      <td>control</td>\n",
              "      <td>2020-07-03</td>\n",
              "      <td>NaN</td>\n",
              "      <td>Generic Smartphone</td>\n",
              "      <td>NaN</td>\n",
              "      <td>Chrome Mobile</td>\n",
              "      <td>NaN</td>\n",
              "      <td>NaN</td>\n",
              "    </tr>\n",
              "    <tr>\n",
              "      <th>freq</th>\n",
              "      <td>1</td>\n",
              "      <td>4071</td>\n",
              "      <td>2015</td>\n",
              "      <td>NaN</td>\n",
              "      <td>4743</td>\n",
              "      <td>NaN</td>\n",
              "      <td>4554</td>\n",
              "      <td>NaN</td>\n",
              "      <td>NaN</td>\n",
              "    </tr>\n",
              "    <tr>\n",
              "      <th>mean</th>\n",
              "      <td>NaN</td>\n",
              "      <td>NaN</td>\n",
              "      <td>NaN</td>\n",
              "      <td>11.615080</td>\n",
              "      <td>NaN</td>\n",
              "      <td>5.947134</td>\n",
              "      <td>NaN</td>\n",
              "      <td>0.070818</td>\n",
              "      <td>0.083075</td>\n",
              "    </tr>\n",
              "    <tr>\n",
              "      <th>std</th>\n",
              "      <td>NaN</td>\n",
              "      <td>NaN</td>\n",
              "      <td>NaN</td>\n",
              "      <td>5.734879</td>\n",
              "      <td>NaN</td>\n",
              "      <td>0.224333</td>\n",
              "      <td>NaN</td>\n",
              "      <td>0.256537</td>\n",
              "      <td>0.276013</td>\n",
              "    </tr>\n",
              "    <tr>\n",
              "      <th>min</th>\n",
              "      <td>NaN</td>\n",
              "      <td>NaN</td>\n",
              "      <td>NaN</td>\n",
              "      <td>0.000000</td>\n",
              "      <td>NaN</td>\n",
              "      <td>5.000000</td>\n",
              "      <td>NaN</td>\n",
              "      <td>0.000000</td>\n",
              "      <td>0.000000</td>\n",
              "    </tr>\n",
              "    <tr>\n",
              "      <th>25%</th>\n",
              "      <td>NaN</td>\n",
              "      <td>NaN</td>\n",
              "      <td>NaN</td>\n",
              "      <td>7.000000</td>\n",
              "      <td>NaN</td>\n",
              "      <td>6.000000</td>\n",
              "      <td>NaN</td>\n",
              "      <td>0.000000</td>\n",
              "      <td>0.000000</td>\n",
              "    </tr>\n",
              "    <tr>\n",
              "      <th>50%</th>\n",
              "      <td>NaN</td>\n",
              "      <td>NaN</td>\n",
              "      <td>NaN</td>\n",
              "      <td>13.000000</td>\n",
              "      <td>NaN</td>\n",
              "      <td>6.000000</td>\n",
              "      <td>NaN</td>\n",
              "      <td>0.000000</td>\n",
              "      <td>0.000000</td>\n",
              "    </tr>\n",
              "    <tr>\n",
              "      <th>75%</th>\n",
              "      <td>NaN</td>\n",
              "      <td>NaN</td>\n",
              "      <td>NaN</td>\n",
              "      <td>15.000000</td>\n",
              "      <td>NaN</td>\n",
              "      <td>6.000000</td>\n",
              "      <td>NaN</td>\n",
              "      <td>0.000000</td>\n",
              "      <td>0.000000</td>\n",
              "    </tr>\n",
              "    <tr>\n",
              "      <th>max</th>\n",
              "      <td>NaN</td>\n",
              "      <td>NaN</td>\n",
              "      <td>NaN</td>\n",
              "      <td>23.000000</td>\n",
              "      <td>NaN</td>\n",
              "      <td>7.000000</td>\n",
              "      <td>NaN</td>\n",
              "      <td>1.000000</td>\n",
              "      <td>1.000000</td>\n",
              "    </tr>\n",
              "  </tbody>\n",
              "</table>\n",
              "</div>"
            ],
            "text/plain": [
              "                                  auction_id  ...           no\n",
              "count                                   8077  ...  8077.000000\n",
              "unique                                  8077  ...          NaN\n",
              "top     1428e0f2-b9b4-4a73-90cb-063b7bc0ef92  ...          NaN\n",
              "freq                                       1  ...          NaN\n",
              "mean                                     NaN  ...     0.083075\n",
              "std                                      NaN  ...     0.276013\n",
              "min                                      NaN  ...     0.000000\n",
              "25%                                      NaN  ...     0.000000\n",
              "50%                                      NaN  ...     0.000000\n",
              "75%                                      NaN  ...     0.000000\n",
              "max                                      NaN  ...     1.000000\n",
              "\n",
              "[11 rows x 9 columns]"
            ]
          },
          "metadata": {
            "tags": []
          },
          "execution_count": 5
        }
      ]
    },
    {
      "cell_type": "markdown",
      "metadata": {
        "id": "16rqg0OqvJM8",
        "colab_type": "text"
      },
      "source": [
        "Categorical Variables are variables that has two or more categories, but there is no intrinsic ordering to the categories. We use them when it is more informative to categorize the variables into a relatively small number of groups like gender, race etc.\n",
        "\n",
        "We have three categorical variables in the above database:\n",
        "*   **experiment**\n",
        "*   **device_make** \n",
        "*   **browser**"
      ]
    },
    {
      "cell_type": "markdown",
      "metadata": {
        "id": "61jnLdqRt4TM",
        "colab_type": "text"
      },
      "source": [
        "Experiment has two categories - exposed and control group.\n",
        "\n",
        "We get the total counts of each yes and no value for both exposed and control group.\n",
        "\n",
        "**Control Group**: users who have been shown a dummy advertisement.\n",
        "\n",
        "**Exposed Group**:  users who have been shown a creative, an online interactive advertisement, with the SmartAd brand. "
      ]
    },
    {
      "cell_type": "code",
      "metadata": {
        "id": "ERF4YYTURLg4",
        "colab_type": "code",
        "colab": {
          "base_uri": "https://localhost:8080/",
          "height": 166
        },
        "outputId": "04ce9828-1446-44ad-d4a1-f2724ebf59eb"
      },
      "source": [
        "var_group= df.groupby(['experiment']).agg({'yes': 'sum', 'no':'sum'})\n",
        "var_group.column = ['yes','no']\n",
        "var_group"
      ],
      "execution_count": null,
      "outputs": [
        {
          "output_type": "stream",
          "text": [
            "/usr/local/lib/python3.6/dist-packages/ipykernel_launcher.py:2: UserWarning: Pandas doesn't allow columns to be created via a new attribute name - see https://pandas.pydata.org/pandas-docs/stable/indexing.html#attribute-access\n",
            "  \n"
          ],
          "name": "stderr"
        },
        {
          "output_type": "execute_result",
          "data": {
            "text/html": [
              "<div>\n",
              "<style scoped>\n",
              "    .dataframe tbody tr th:only-of-type {\n",
              "        vertical-align: middle;\n",
              "    }\n",
              "\n",
              "    .dataframe tbody tr th {\n",
              "        vertical-align: top;\n",
              "    }\n",
              "\n",
              "    .dataframe thead th {\n",
              "        text-align: right;\n",
              "    }\n",
              "</style>\n",
              "<table border=\"1\" class=\"dataframe\">\n",
              "  <thead>\n",
              "    <tr style=\"text-align: right;\">\n",
              "      <th></th>\n",
              "      <th>yes</th>\n",
              "      <th>no</th>\n",
              "    </tr>\n",
              "    <tr>\n",
              "      <th>experiment</th>\n",
              "      <th></th>\n",
              "      <th></th>\n",
              "    </tr>\n",
              "  </thead>\n",
              "  <tbody>\n",
              "    <tr>\n",
              "      <th>control</th>\n",
              "      <td>264</td>\n",
              "      <td>322</td>\n",
              "    </tr>\n",
              "    <tr>\n",
              "      <th>exposed</th>\n",
              "      <td>308</td>\n",
              "      <td>349</td>\n",
              "    </tr>\n",
              "  </tbody>\n",
              "</table>\n",
              "</div>"
            ],
            "text/plain": [
              "            yes   no\n",
              "experiment          \n",
              "control     264  322\n",
              "exposed     308  349"
            ]
          },
          "metadata": {
            "tags": []
          },
          "execution_count": 57
        }
      ]
    },
    {
      "cell_type": "markdown",
      "metadata": {
        "id": "eAYuAbpdusSo",
        "colab_type": "text"
      },
      "source": [
        "yes = exposed - control = 308 - 264 = 44\n",
        "\n",
        "no = exposed - control = 349 - 308 = 41\n",
        "\n",
        "We see that the exposed group got more yes than the control group."
      ]
    },
    {
      "cell_type": "markdown",
      "metadata": {
        "id": "pE7uKyMfGCDf",
        "colab_type": "text"
      },
      "source": [
        "**4. Perform data exploration to count unique values of categorical variables, make histogram, relational, and other necessary plots to help understand the data. For each of the plots you produce, write a description of what the plot shows in markdown cells.**"
      ]
    },
    {
      "cell_type": "markdown",
      "metadata": {
        "id": "blx2HpXkHs4s",
        "colab_type": "text"
      },
      "source": [
        "**Barplot showing the counts of each category in the experiment column. Experiment column has just two categories - control and exposed.**"
      ]
    },
    {
      "cell_type": "code",
      "metadata": {
        "id": "U6d7YBrsG0Cd",
        "colab_type": "code",
        "colab": {
          "base_uri": "https://localhost:8080/",
          "height": 313
        },
        "outputId": "a9d306e1-e1b9-437a-9c2f-bfe31be04f06"
      },
      "source": [
        "import matplotlib as plt\n",
        "\n",
        "experiment = df['experiment'].value_counts()\n",
        "experiment.plot(kind='bar')"
      ],
      "execution_count": null,
      "outputs": [
        {
          "output_type": "execute_result",
          "data": {
            "text/plain": [
              "<matplotlib.axes._subplots.AxesSubplot at 0x7f021af8b978>"
            ]
          },
          "metadata": {
            "tags": []
          },
          "execution_count": 5
        },
        {
          "output_type": "display_data",
          "data": {
            "image/png": "[encoded data removed]",
            "text/plain": [
              "<Figure size 432x288 with 1 Axes>"
            ]
          },
          "metadata": {
            "tags": [],
            "needs_background": "light"
          }
        }
      ]
    },
    {
      "cell_type": "markdown",
      "metadata": {
        "id": "MHqh2M8RV4Ca",
        "colab_type": "text"
      },
      "source": [
        "We see from this bar plot that both exposed and control categories in the experiment column have almost the same number of counts."
      ]
    },
    {
      "cell_type": "markdown",
      "metadata": {
        "id": "QHzp3Q7IRKTL",
        "colab_type": "text"
      },
      "source": [
        "**Barplot showing the counts of each category in the device_make column. Device_make column has 270 categories.**"
      ]
    },
    {
      "cell_type": "code",
      "metadata": {
        "id": "EDg11cS7KQ90",
        "colab_type": "code",
        "colab": {
          "base_uri": "https://localhost:8080/",
          "height": 378
        },
        "outputId": "87d6255a-ed27-472c-e4f7-3d5cfda621a3"
      },
      "source": [
        "import matplotlib as plt\n",
        "\n",
        "device_make = df['device_make'].value_counts()[:10]\n",
        "device_make.plot(kind='bar')"
      ],
      "execution_count": null,
      "outputs": [
        {
          "output_type": "execute_result",
          "data": {
            "text/plain": [
              "<matplotlib.axes._subplots.AxesSubplot at 0x7fd2abda1550>"
            ]
          },
          "metadata": {
            "tags": []
          },
          "execution_count": 19
        },
        {
          "output_type": "display_data",
          "data": {
            "image/png": "[encoded data removed]",
            "text/plain": [
              "<Figure size 432x288 with 1 Axes>"
            ]
          },
          "metadata": {
            "tags": [],
            "needs_background": "light"
          }
        }
      ]
    },
    {
      "cell_type": "markdown",
      "metadata": {
        "id": "dMLIhjSQWRRg",
        "colab_type": "text"
      },
      "source": [
        "We see from this bar plot that 'Generic Smartphone' has the highest number of counts in the device_make column. It means that most people used generic phones to fill the questionnaire."
      ]
    },
    {
      "cell_type": "markdown",
      "metadata": {
        "id": "c4hmJ8-lRcBU",
        "colab_type": "text"
      },
      "source": [
        "**Barplot showing the counts of each category in the browser column. Browser column has 15 categories.**"
      ]
    },
    {
      "cell_type": "code",
      "metadata": {
        "id": "QKo_Xlz4KRpN",
        "colab_type": "code",
        "colab": {
          "base_uri": "https://localhost:8080/",
          "height": 413
        },
        "outputId": "227a47b2-51a1-4d31-975a-e49c9c339fde"
      },
      "source": [
        "import matplotlib as plt\n",
        "\n",
        "browser = df['browser'].value_counts()[:10]\n",
        "browser.plot(kind='bar')"
      ],
      "execution_count": null,
      "outputs": [
        {
          "output_type": "execute_result",
          "data": {
            "text/plain": [
              "<matplotlib.axes._subplots.AxesSubplot at 0x7fd2abd7d6d8>"
            ]
          },
          "metadata": {
            "tags": []
          },
          "execution_count": 21
        },
        {
          "output_type": "display_data",
          "data": {
            "image/png": "[encoded data removed]",
            "text/plain": [
              "<Figure size 432x288 with 1 Axes>"
            ]
          },
          "metadata": {
            "tags": [],
            "needs_background": "light"
          }
        }
      ]
    },
    {
      "cell_type": "markdown",
      "metadata": {
        "id": "xrIkGZNLWzNB",
        "colab_type": "text"
      },
      "source": [
        "We see from this bar plot that 'Chrome Mobile' has the highest number of counts in the browser column. It means that most people preferred to use chrome mobile browser to fill the questionnaire."
      ]
    },
    {
      "cell_type": "markdown",
      "metadata": {
        "id": "j_UAolpwRvE-",
        "colab_type": "text"
      },
      "source": [
        "**Scatterplot showing the joint distribution of the browser and device_make column using a cloud of points, where each point represents an observation in the dataset. This depiction allows the eye to infer a substantial amount of information about whether there is any meaningful relationship between them.**\n"
      ]
    },
    {
      "cell_type": "code",
      "metadata": {
        "id": "PmiC_XkGOz10",
        "colab_type": "code",
        "colab": {
          "base_uri": "https://localhost:8080/",
          "height": 706
        },
        "outputId": "a4b5f4f5-6e48-4041-caee-b00c160f08ae"
      },
      "source": [
        "sns.set(style=\"ticks\")\n",
        "chart = sns.relplot(x=\"browser\", y=\"device_make\", hue=\"experiment\", style=\"experiment\", height=8, aspect=1.8, data=df[:100])\n",
        "chart.set_xticklabels(rotation=45)"
      ],
      "execution_count": null,
      "outputs": [
        {
          "output_type": "execute_result",
          "data": {
            "text/plain": [
              "<seaborn.axisgrid.FacetGrid at 0x7f020ff39b38>"
            ]
          },
          "metadata": {
            "tags": []
          },
          "execution_count": 9
        },
        {
          "output_type": "display_data",
          "data": {
            "image/png": "[encoded data removed]",
            "text/plain": [
              "<Figure size 1140.15x576 with 1 Axes>"
            ]
          },
          "metadata": {
            "tags": []
          }
        }
      ]
    },
    {
      "cell_type": "markdown",
      "metadata": {
        "id": "vhCVLIIZXJMi",
        "colab_type": "text"
      },
      "source": [
        "We see from this scatter plot showing the relationship between \"device_make\" and \"browser column\" and using \"experiment column\" for the variation in color that the exposed group had more occurence than the control group for those that filled the questionnaire on chrome mobile view browser but the control column had more occurence than the exposed column for those that filled the questionnaire on facebook"
      ]
    },
    {
      "cell_type": "markdown",
      "metadata": {
        "id": "pf553bGZS4l3",
        "colab_type": "text"
      },
      "source": [
        "**Piechart showing the counts of each category in the Experiment column. Experiment column has just 2 categories - exposed and control.**"
      ]
    },
    {
      "cell_type": "code",
      "metadata": {
        "id": "d7VvzyeHQ0d7",
        "colab_type": "code",
        "colab": {
          "base_uri": "https://localhost:8080/",
          "height": 541
        },
        "outputId": "76b5a057-da1e-44c8-92fe-2f2f6c21dd21"
      },
      "source": [
        "title_experiment = df.groupby('experiment').agg('count')\n",
        "experiment_labels = title_experiment.auction_id.sort_values().index \n",
        "experiment_counts = title_experiment.auction_id.sort_values()\n",
        "\n",
        "plt.figure(1, figsize=(40,20)) \n",
        "the_grid = GridSpec(2, 2)\n",
        "\n",
        "plt.subplot(the_grid[0, 1], aspect=1, title='Count of Categories in Experiment Column')\n",
        "type_show_ids = plt.pie(experiment_counts, labels=experiment_labels, autopct='%1.1f%%', shadow=True)\n",
        "plt.show()"
      ],
      "execution_count": null,
      "outputs": [
        {
          "output_type": "display_data",
          "data": {
            "image/png": "[encoded data removed]",
            "text/plain": [
              "<Figure size 2880x1440 with 1 Axes>"
            ]
          },
          "metadata": {
            "tags": []
          }
        }
      ]
    },
    {
      "cell_type": "markdown",
      "metadata": {
        "id": "s_Mw5KmMYVct",
        "colab_type": "text"
      },
      "source": [
        "We see from the pie-chart above that the control group had about 0.8% higher number of counts than the exposed group."
      ]
    },
    {
      "cell_type": "markdown",
      "metadata": {
        "id": "WbuXQOn_TeMU",
        "colab_type": "text"
      },
      "source": [
        "**Piechart showing the counts of each category in the device_make column. Device_make column has 270 different categories. We just used 30 entries for our piechart.**"
      ]
    },
    {
      "cell_type": "code",
      "metadata": {
        "id": "17P6CCBqPcdY",
        "colab_type": "code",
        "colab": {
          "base_uri": "https://localhost:8080/",
          "height": 541
        },
        "outputId": "de19ccf9-e41c-43fe-9880-c335acc09520"
      },
      "source": [
        "title_device_make = df[:30].groupby('device_make').agg('count')\n",
        "device_make_labels = title_device_make.auction_id.sort_values().index \n",
        "device_make_counts = title_device_make.auction_id.sort_values()\n",
        "\n",
        "plt.figure(1, figsize=(40,20)) \n",
        "the_grid = GridSpec(2, 2)\n",
        "\n",
        "plt.subplot(the_grid[0, 1], aspect=1, title='Count of Categories in Device_make Column')\n",
        "type_show_ids = plt.pie(device_make_counts, labels=device_make_labels, autopct='%1.1f%%', shadow=True)\n",
        "plt.show()"
      ],
      "execution_count": null,
      "outputs": [
        {
          "output_type": "display_data",
          "data": {
            "image/png": "[encoded data removed]",
            "text/plain": [
              "<Figure size 2880x1440 with 1 Axes>"
            ]
          },
          "metadata": {
            "tags": []
          }
        }
      ]
    },
    {
      "cell_type": "markdown",
      "metadata": {
        "id": "dxw64ZPGYzVW",
        "colab_type": "text"
      },
      "source": [
        "We see from the pie-chart above that the \"Generic Smartphone\" device make has an overall high number of counts compared to any other device make in the dataset. We can say that a high number of people filled the questionnaire from a Generic Smart phone device."
      ]
    },
    {
      "cell_type": "markdown",
      "metadata": {
        "id": "1Zn1vwIVTvLW",
        "colab_type": "text"
      },
      "source": [
        "**Piechart showing the counts of each category in the browser column. Browser column has 15 different categories. We just used 30 entries for our piechart.**"
      ]
    },
    {
      "cell_type": "code",
      "metadata": {
        "id": "oZxObr9PQZ94",
        "colab_type": "code",
        "colab": {
          "base_uri": "https://localhost:8080/",
          "height": 541
        },
        "outputId": "e55ccc70-b8d5-4594-d495-83ed0ca617a5"
      },
      "source": [
        "title_browser = df[:30].groupby('browser').agg('count')\n",
        "browser_labels = title_browser.auction_id.sort_values().index \n",
        "browser_counts = title_browser.auction_id.sort_values()\n",
        "\n",
        "plt.figure(1, figsize=(40,20)) \n",
        "the_grid = GridSpec(2, 2)\n",
        "\n",
        "plt.subplot(the_grid[0, 1], aspect=1, title='Count of Categories in Browser Column')\n",
        "type_show_ids = plt.pie(browser_counts, labels=browser_labels, autopct='%1.1f%%', shadow=True)\n",
        "plt.show()"
      ],
      "execution_count": null,
      "outputs": [
        {
          "output_type": "display_data",
          "data": {
            "image/png": "[encoded data removed]",
            "text/plain": [
              "<Figure size 2880x1440 with 1 Axes>"
            ]
          },
          "metadata": {
            "tags": []
          }
        }
      ]
    },
    {
      "cell_type": "markdown",
      "metadata": {
        "id": "dcb2DNt-ZLGD",
        "colab_type": "text"
      },
      "source": [
        "We see from the pie-chart above that the \"Chrome Mobile\" browser had an overall high number of counts compared to any other browser in the dataset.  We can say that a high number of people filled the questionnaire from a Chrome Mobile browser."
      ]
    },
    {
      "cell_type": "markdown",
      "metadata": {
        "id": "kNgIdwD5RWaI",
        "colab_type": "text"
      },
      "source": [
        "## 4. Perform hypothesis testing: apply the classical p-value based algorithm and the  sequential A/B testing algorithm for which a starter code is provided.**"
      ]
    },
    {
      "cell_type": "markdown",
      "metadata": {
        "id": "QcjJhVBIRWUs",
        "colab_type": "text"
      },
      "source": [
        "### Classical p-value Based Algorithm"
      ]
    },
    {
      "cell_type": "code",
      "metadata": {
        "id": "3-2RHUWgndwV",
        "colab_type": "code",
        "colab": {
          "base_uri": "https://localhost:8080/",
          "height": 133
        },
        "outputId": "6c1d9a67-4260-443d-d3b6-b2de91bf0208"
      },
      "source": [
        "ab_Summary = df.pivot_table(values=['yes', 'no'], index='experiment', aggfunc=np.sum)\n",
        "\n",
        "# add additional columns to the pivot table\n",
        "ab_Summary['total_yes'] = df.pivot_table(values='yes', index='experiment', aggfunc=lambda x: len(x))\n",
        "ab_Summary['rate_of_yes'] = df.pivot_table(values='yes', index='experiment')\n",
        "\n",
        "ab_Summary['total_no'] = df.pivot_table(values='no', index='experiment', aggfunc=lambda x: len(x))\n",
        "ab_Summary['rate_of_no'] = df.pivot_table(values='no', index='experiment')\n",
        "\n",
        "ab_Summary"
      ],
      "execution_count": 100,
      "outputs": [
        {
          "output_type": "execute_result",
          "data": {
            "text/html": [
              "<div>\n",
              "<style scoped>\n",
              "    .dataframe tbody tr th:only-of-type {\n",
              "        vertical-align: middle;\n",
              "    }\n",
              "\n",
              "    .dataframe tbody tr th {\n",
              "        vertical-align: top;\n",
              "    }\n",
              "\n",
              "    .dataframe thead th {\n",
              "        text-align: right;\n",
              "    }\n",
              "</style>\n",
              "<table border=\"1\" class=\"dataframe\">\n",
              "  <thead>\n",
              "    <tr style=\"text-align: right;\">\n",
              "      <th></th>\n",
              "      <th>no</th>\n",
              "      <th>yes</th>\n",
              "      <th>total_yes</th>\n",
              "      <th>rate_of_yes</th>\n",
              "      <th>total_no</th>\n",
              "      <th>rate_of_no</th>\n",
              "    </tr>\n",
              "    <tr>\n",
              "      <th>experiment</th>\n",
              "      <th></th>\n",
              "      <th></th>\n",
              "      <th></th>\n",
              "      <th></th>\n",
              "      <th></th>\n",
              "      <th></th>\n",
              "    </tr>\n",
              "  </thead>\n",
              "  <tbody>\n",
              "    <tr>\n",
              "      <th>control</th>\n",
              "      <td>322</td>\n",
              "      <td>264</td>\n",
              "      <td>4071</td>\n",
              "      <td>0.064849</td>\n",
              "      <td>4071</td>\n",
              "      <td>0.079096</td>\n",
              "    </tr>\n",
              "    <tr>\n",
              "      <th>exposed</th>\n",
              "      <td>349</td>\n",
              "      <td>308</td>\n",
              "      <td>4006</td>\n",
              "      <td>0.076885</td>\n",
              "      <td>4006</td>\n",
              "      <td>0.087119</td>\n",
              "    </tr>\n",
              "  </tbody>\n",
              "</table>\n",
              "</div>"
            ],
            "text/plain": [
              "             no  yes  total_yes  rate_of_yes  total_no  rate_of_no\n",
              "experiment                                                        \n",
              "control     322  264       4071     0.064849      4071    0.079096\n",
              "exposed     349  308       4006     0.076885      4006    0.087119"
            ]
          },
          "metadata": {
            "tags": []
          },
          "execution_count": 100
        }
      ]
    },
    {
      "cell_type": "markdown",
      "metadata": {
        "id": "xj71NnA-oJD-",
        "colab_type": "text"
      },
      "source": [
        "It looks like the difference in conversion rates between the two groups is 0.0120. This is a good sign but this is not enough evidence for us to confidently go with the new design. At this point we have not measured how confident we are in this result. This can be mitigated by looking at the distributions of the two groups"
      ]
    },
    {
      "cell_type": "code",
      "metadata": {
        "id": "rFwax8ECDCQt",
        "colab_type": "code",
        "colab": {}
      },
      "source": [
        "control_dataframe = df[df['experiment']=='control']\n",
        "exposed_dataframe = df[df['experiment']=='exposed']"
      ],
      "execution_count": 96,
      "outputs": []
    },
    {
      "cell_type": "code",
      "metadata": {
        "id": "rGUJUAvIXhBK",
        "colab_type": "code",
        "colab": {
          "base_uri": "https://localhost:8080/",
          "height": 278
        },
        "outputId": "45f91005-71b0-4e65-f396-7d0af9c77745"
      },
      "source": [
        "import matplotlib.pyplot as plt\n",
        "from scipy.stats import binom\n",
        "import numpy as np\n",
        "\n",
        "#number of total responses for both control and exposed group\n",
        "number_control, number_exposed = control_dataframe['yes'].count(), exposed_dataframe['yes'].count()\n",
        "\n",
        "#number of yes for each control and exposed group\n",
        "num_of_yes_control, num_of_yes_exposed = control_dataframe['yes'].sum(), exposed_dataframe['yes'].sum()\n",
        "\n",
        "#rate of success for each control and exposed group\n",
        "rate_a, rate_b = num_of_yes_control / number_control, num_of_yes_exposed / number_exposed\n",
        "\n",
        "# Determine the probability of having x number of yes chosen\n",
        "clicks = np.arange(20, 80)\n",
        "prob_control = binom(num_of_yes_control, rate_a).pmf(clicks)\n",
        "prob_exposed = binom(num_of_yes_exposed, rate_b).pmf(clicks)\n",
        "\n",
        "# Make the bar plots.\n",
        "plt.bar(clicks, prob_control, label=\"control\", alpha=0.7)\n",
        "plt.bar(clicks, prob_exposed, label=\"exposed\", alpha=0.7)\n",
        "plt.legend()\n",
        "plt.xlabel(\"Conversion rate\"); plt.ylabel(\"Probability\");"
      ],
      "execution_count": 97,
      "outputs": [
        {
          "output_type": "display_data",
          "data": {
            "image/png": "[encoded data removed]",
            "text/plain": [
              "<Figure size 432x288 with 1 Axes>"
            ]
          },
          "metadata": {
            "tags": [],
            "needs_background": "light"
          }
        }
      ]
    },
    {
      "cell_type": "markdown",
      "metadata": {
        "id": "bJRdbwX6CAeD",
        "colab_type": "text"
      },
      "source": [
        "So we can see here that exposed group has an edge, but its certaintly possible if we pick two random points according to the histograms for control group and exposed group, the control group might actually be higher than the exposed group!"
      ]
    },
    {
      "cell_type": "markdown",
      "metadata": {
        "id": "u6AMBgphCcAW",
        "colab_type": "text"
      },
      "source": [
        "Sure, we can work with binomial distributions in this case. As we’re interested in the number of users who chose a yes , or average time spent on the site, this averaging of an underlying distribution means our final estimate will be well approximated by a normal distribution.\n",
        "\n",
        "So let’s reformulate, using the normal approximation here:"
      ]
    },
    {
      "cell_type": "code",
      "metadata": {
        "id": "jShSq-yAW4oQ",
        "colab_type": "code",
        "colab": {
          "base_uri": "https://localhost:8080/",
          "height": 295
        },
        "outputId": "3ddf5cf2-6544-41cd-bb76-c5321fe339c7"
      },
      "source": [
        "from scipy.stats import norm\n",
        "\n",
        "# Where does this come from? See the link above.\n",
        "std_a = np.sqrt(rate_a * (1 - rate_a) / number_control)\n",
        "std_b = np.sqrt(rate_b * (1 - rate_b) / number_exposed)\n",
        "\n",
        "click_rate = np.linspace(0, 0.2, 200)\n",
        "prob_a = norm(rate_a, std_a).pdf(click_rate)\n",
        "prob_b = norm(rate_b, std_b).pdf(click_rate)\n",
        "\n",
        "# Make the bar plots.\n",
        "plt.plot(click_rate, prob_a, label=\"control\")\n",
        "plt.plot(click_rate, prob_b, label=\"exposed\")\n",
        "plt.title(\"click_rate vs Probability\")\n",
        "plt.legend(frameon=False)\n",
        "\n",
        "#we define our conversion rate as the number of times we got a yes for an answer\n",
        "plt.xlabel(\"conversion rate\"); plt.ylabel(\"Probability\");"
      ],
      "execution_count": 102,
      "outputs": [
        {
          "output_type": "display_data",
          "data": {
            "image/png": "[encoded data removed]",
            "text/plain": [
              "<Figure size 432x288 with 1 Axes>"
            ]
          },
          "metadata": {
            "tags": [],
            "needs_background": "light"
          }
        }
      ]
    },
    {
      "cell_type": "markdown",
      "metadata": {
        "id": "057TZdCJDkIo",
        "colab_type": "text"
      },
      "source": [
        "This is also a better plot than the first one but What is the chance that a the new advert had more likes than the old one. Is it significant?\n",
        "\n",
        "This is simple - take the difference in the means and sum the variance. We’ll do two things below: First, get the z-score, and second, plot the proper distribution."
      ]
    },
    {
      "cell_type": "code",
      "metadata": {
        "id": "KuODq6VPXKIE",
        "colab_type": "code",
        "colab": {
          "base_uri": "https://localhost:8080/",
          "height": 295
        },
        "outputId": "6c7c08ac-57f3-4860-9f8b-178706739f93"
      },
      "source": [
        "z_score = (rate_b - rate_a) / np.sqrt(std_a**2 + std_b**2)\n",
        "p = norm(rate_b - rate_a, np.sqrt(std_a**2 + std_b**2))\n",
        "\n",
        "x = np.linspace(-0.05, 0.15, 1000)\n",
        "y = p.pdf(x)\n",
        "area_under_curve = p.sf(0)\n",
        "plt.plot(x, y, label=\"PDF\")\n",
        "plt.fill_between(x, 0, y, where=x>0, label=\"Prob(b>a)\", alpha=0.3)\n",
        "plt.annotate(f\"Area={area_under_curve:0.3f}\", (0.02, 5))\n",
        "plt.legend()\n",
        "plt.xlabel(\"Difference in conversion rate\"); plt.ylabel(\"Probability\");\n",
        "\n",
        "print(f\"zscore is {z_score:0.3f}, with p-value {norm().sf(z_score):0.3f}\")"
      ],
      "execution_count": 103,
      "outputs": [
        {
          "output_type": "stream",
          "text": [
            "zscore is 2.108, with p-value 0.018\n"
          ],
          "name": "stdout"
        },
        {
          "output_type": "display_data",
          "data": {
            "image/png": "[encoded data removed]",
            "text/plain": [
              "<Figure size 432x288 with 1 Axes>"
            ]
          },
          "metadata": {
            "tags": [],
            "needs_background": "light"
          }
        }
      ]
    },
    {
      "cell_type": "markdown",
      "metadata": {
        "id": "53aeL-HoGari",
        "colab_type": "text"
      },
      "source": [
        "* **Null hypothesis: exposed group is less than the control group**\n",
        "\n",
        "* **Alternative hypothesis test: exposed group is greater than the control group**"
      ]
    },
    {
      "cell_type": "markdown",
      "metadata": {
        "id": "qbPj0iihEeUh",
        "colab_type": "text"
      },
      "source": [
        "**Using our approach so far, we would say that given the null hypothesis is true (that the exposed group  is less then or equal to the control group), we would expect to get this result or a result more extreme only 0.018 * 100 = 1.8% (which is the value of our p) number of times.**\n",
        "\n",
        "**As that is a significant result (typically p < 5%), we reject the null hypothesis, and state that we have evidence that the exposed group is greater than the control group. We can go ahead with to say that the adverts that the advertising company runs resulted in a significant lift in brand awareness.**"
      ]
    },
    {
      "cell_type": "markdown",
      "metadata": {
        "id": "EZ1hTr4KXslc",
        "colab_type": "text"
      },
      "source": [
        "### Sequential A/B testing Algorithm"
      ]
    },
    {
      "cell_type": "markdown",
      "metadata": {
        "id": "N6u9szC6KpjB",
        "colab_type": "text"
      },
      "source": [
        "* **Null hypothesis: exposed group is less than the control group**\n",
        "\n",
        "* **Alternative hypothesis test: exposed group is greater than the control group**\n",
        "\n",
        "* **We wish to test the simple null hypothesis that \"θ = exposed group is less than than the control group\" versus the simple alternative hypothesis that \"θ = The exposed group is greater than the control group\" at the α=0.05 level.**\n",
        "\n",
        "* **In sequential test, given the total sample size N, we try to see if the critical value for the current sample size was gotten before the sample finished. This makes it better compared to classical p value test as we do not need to know the number of samples before-hand.**\n",
        "\n",
        "* **If the critical point becomes greater than the alpha 0.05 level value, we reject the null hypothesis straightaway even if we did not look through all our samples. This is an advantage over the classical p value testing**\n",
        "\n",
        "* **To model the ongoing monitoring of this experiment, we define a random variable N=min{n≥1|∑ni=1Xi>n−−√z0.05}, called the stopping time.**\n",
        "\n",
        "* **The random variable N is the first time that the test statistic exceeds the critical value, and the naive approach to sequential testing would reject the null hypothesis after N samples.**"
      ]
    },
    {
      "cell_type": "code",
      "metadata": {
        "id": "p0CGkvmrXwAh",
        "colab_type": "code",
        "colab": {}
      },
      "source": [
        "from pydrive.auth import GoogleAuth\n",
        "from pydrive.drive import GoogleDrive\n",
        "from google.colab import auth\n",
        "from oauth2client.client import GoogleCredentials"
      ],
      "execution_count": null,
      "outputs": []
    },
    {
      "cell_type": "markdown",
      "metadata": {
        "id": "hS3S_INNQWDw",
        "colab_type": "text"
      },
      "source": [
        "**Here we use a Monte Carlo method to approximate the level of this naive sequential test. We used the total sample of 4071 which is our control sample out sample, assuming the null hypothesis is true.**"
      ]
    },
    {
      "cell_type": "code",
      "metadata": {
        "id": "qbq0XULYLAtA",
        "colab_type": "code",
        "colab": {}
      },
      "source": [
        "from __future__ import division\n",
        "\n",
        "import numpy as np\n",
        "from scipy import stats\n",
        "\n",
        "n = 100\n",
        "N = 4071\n",
        "\n",
        "samples = stats.norm.rvs(size=(N, n))"
      ],
      "execution_count": 111,
      "outputs": []
    },
    {
      "cell_type": "markdown",
      "metadata": {
        "id": "3jjZTXjLRR1u",
        "colab_type": "text"
      },
      "source": [
        "Here each row of samples corresponds to a simulation and each column to a sample.\n",
        "\n",
        "Now we calculate the proportion of these simulated experiments that would have been stopped before 4071 samples, trying to reject the null hypothesis that the exposed group is less then or equal to the control group is true."
      ]
    },
    {
      "cell_type": "code",
      "metadata": {
        "id": "yVzUgvkvQhLt",
        "colab_type": "code",
        "colab": {
          "base_uri": "https://localhost:8080/",
          "height": 33
        },
        "outputId": "8c25ce20-f59e-4785-e23e-0178f8c02b4f"
      },
      "source": [
        "alpha = 0.05\n",
        "z_alpha = stats.norm.isf(alpha)\n",
        "\n",
        "cumsums = samples.cumsum(axis=1)\n",
        "ns = np.arange(1, n + 1)\n",
        "\n",
        "np.any(cumsums > np.sqrt(ns) * z_alpha, axis=1).sum() / N"
      ],
      "execution_count": 112,
      "outputs": [
        {
          "output_type": "execute_result",
          "data": {
            "text/plain": [
              "0.30140014738393517"
            ]
          },
          "metadata": {
            "tags": []
          },
          "execution_count": 112
        }
      ]
    },
    {
      "cell_type": "markdown",
      "metadata": {
        "id": "44oiIV7ORpgC",
        "colab_type": "text"
      },
      "source": [
        "We see that the actual level of this test is an order of magnitude larger than the desired level of α=0.05. \n",
        "\n",
        "**We see that our critical value is greater than alpha testing level of 0.05, we then go ahead to reject the null hypothesis that the exposed group is less than or equal to the control group.**"
      ]
    },
    {
      "cell_type": "markdown",
      "metadata": {
        "id": "ylUSKFI-Jm53",
        "colab_type": "text"
      },
      "source": [
        "**Are the number of data points in the experiment enough to make a reasonable judgement or should the company run a longer experiment? Remember that running the experiment longer may be costly for many reasons, so you should always optimize the number of samples to make a statistically sound decision.**\n",
        "\n",
        "* I feel they are number of data points in the experiment are enough to make a reasonable judgement.\n",
        "\n",
        "**My Explanation**\n",
        "* We got the same result using both the classical p-value test and sequential test. In classical test, we understand that the number of samples need to be known before-hand but in the sequential test, the number of samples does not necessarily need to be known before-hand. We got a rejection in the null hypothesis for both the classical and sequential. I feel since sequential test does not really matter with the size of sample, and we got a rejection in the null hypothesis, we can say the number of samples or data points is not a factor in getting the accuracy of the test."
      ]
    },
    {
      "cell_type": "markdown",
      "metadata": {
        "id": "AUYe-Pg6J8Os",
        "colab_type": "text"
      },
      "source": [
        "**What does your A/B testing analysis tell you? Is brand awareness increased for the exposed group?**\n",
        "\n",
        "* Yes,  brand awareness increased for the exposed group.\n",
        "\n",
        "* From my classical p-value analysis, we saw that our null hypothesis was rejected that the exposed group is less than or equal to the control group. Using our approach so far, we would say that given the null hypothesis is true (that the exposed group  is less then or equal to the control group), we would expect to get this result or a result more extreme only 0.018 * 100 = 1.8% (which is the value of our p) number of times.\n",
        "\n",
        "* As that is a significant result (typically p < 5%), we reject the null hypothesis, and state that we have evidence that the exposed group > control group. We can go ahead with to say that the adverts that the advertising company runs resulted in a significant lift in brand awareness.\n",
        "\n",
        "* For sequential tesing, we wanted to know if the critical value was reached before the number of samples got exhausted. We got a critical value of 0.3014 which is greater than the alpha level testing. We can say that the nulll hypothesis is rejected that the exposed group is less than or equal to the control group."
      ]
    },
    {
      "cell_type": "markdown",
      "metadata": {
        "id": "L78hk6y6UARN",
        "colab_type": "text"
      },
      "source": [
        "## Machine Learning"
      ]
    },
    {
      "cell_type": "markdown",
      "metadata": {
        "id": "RWIwrjykUZAd",
        "colab_type": "text"
      },
      "source": [
        "In max three statements, make a problem formulation for machine learning and specify the target variable\n",
        "\n",
        "* A major issue with traditional, statistical-inference approaches to A/B Testing is that it only compares 2 variables - an experiment/control to an outcome. The problem is that customer behavior is vastly more complex than this, Customers take different paths, spend different amounts of time on the site, come from different backgrounds (age, gender, interests), and more. This is where Machine Learning excels - generating insights from complex systems"
      ]
    },
    {
      "cell_type": "markdown",
      "metadata": {
        "id": "0oP9ZgXAdm5G",
        "colab_type": "text"
      },
      "source": [
        "**Split the data into 70% training, 20% validation, and 10% test sets.**"
      ]
    },
    {
      "cell_type": "code",
      "metadata": {
        "id": "hV_KOuif8S6i",
        "colab_type": "code",
        "colab": {}
      },
      "source": [
        "train, validate, test = np.split(df.sample(frac=1), [int(.7*len(df)), int(.67*len(df))])"
      ],
      "execution_count": null,
      "outputs": []
    },
    {
      "cell_type": "code",
      "metadata": {
        "id": "DMxPb8w8AT-s",
        "colab_type": "code",
        "colab": {
          "base_uri": "https://localhost:8080/",
          "height": 191
        },
        "outputId": "bad1f9f6-f331-4ce7-806b-a97b672e0762"
      },
      "source": [
        "train.head()"
      ],
      "execution_count": null,
      "outputs": [
        {
          "output_type": "execute_result",
          "data": {
            "text/html": [
              "<div>\n",
              "<style scoped>\n",
              "    .dataframe tbody tr th:only-of-type {\n",
              "        vertical-align: middle;\n",
              "    }\n",
              "\n",
              "    .dataframe tbody tr th {\n",
              "        vertical-align: top;\n",
              "    }\n",
              "\n",
              "    .dataframe thead th {\n",
              "        text-align: right;\n",
              "    }\n",
              "</style>\n",
              "<table border=\"1\" class=\"dataframe\">\n",
              "  <thead>\n",
              "    <tr style=\"text-align: right;\">\n",
              "      <th></th>\n",
              "      <th>auction_id</th>\n",
              "      <th>experiment</th>\n",
              "      <th>date</th>\n",
              "      <th>hour</th>\n",
              "      <th>device_make</th>\n",
              "      <th>platform_os</th>\n",
              "      <th>browser</th>\n",
              "      <th>yes</th>\n",
              "      <th>no</th>\n",
              "    </tr>\n",
              "  </thead>\n",
              "  <tbody>\n",
              "    <tr>\n",
              "      <th>6912</th>\n",
              "      <td>dbd9e245-12dc-4ec4-8e48-87ffe5b27767</td>\n",
              "      <td>exposed</td>\n",
              "      <td>2020-07-05</td>\n",
              "      <td>10</td>\n",
              "      <td>Generic Smartphone</td>\n",
              "      <td>6</td>\n",
              "      <td>Chrome Mobile</td>\n",
              "      <td>0</td>\n",
              "      <td>0</td>\n",
              "    </tr>\n",
              "    <tr>\n",
              "      <th>3156</th>\n",
              "      <td>65ef068c-46a3-4e00-8e8b-29008a04b7d3</td>\n",
              "      <td>control</td>\n",
              "      <td>2020-07-10</td>\n",
              "      <td>6</td>\n",
              "      <td>Generic Smartphone</td>\n",
              "      <td>6</td>\n",
              "      <td>Chrome Mobile</td>\n",
              "      <td>0</td>\n",
              "      <td>0</td>\n",
              "    </tr>\n",
              "    <tr>\n",
              "      <th>3116</th>\n",
              "      <td>64d4b638-22fa-4c05-9cfd-0d73855b89c0</td>\n",
              "      <td>exposed</td>\n",
              "      <td>2020-07-10</td>\n",
              "      <td>3</td>\n",
              "      <td>Samsung SM-A105FN</td>\n",
              "      <td>6</td>\n",
              "      <td>Facebook</td>\n",
              "      <td>0</td>\n",
              "      <td>0</td>\n",
              "    </tr>\n",
              "    <tr>\n",
              "      <th>4894</th>\n",
              "      <td>9bd5f8df-0f62-49fa-9ff4-c8df3f11813d</td>\n",
              "      <td>control</td>\n",
              "      <td>2020-07-05</td>\n",
              "      <td>20</td>\n",
              "      <td>Generic Smartphone</td>\n",
              "      <td>6</td>\n",
              "      <td>Chrome Mobile</td>\n",
              "      <td>0</td>\n",
              "      <td>0</td>\n",
              "    </tr>\n",
              "    <tr>\n",
              "      <th>615</th>\n",
              "      <td>130ed201-5a53-4622-bf54-46effe04a6c0</td>\n",
              "      <td>control</td>\n",
              "      <td>2020-07-03</td>\n",
              "      <td>15</td>\n",
              "      <td>Generic Smartphone</td>\n",
              "      <td>6</td>\n",
              "      <td>Chrome Mobile</td>\n",
              "      <td>0</td>\n",
              "      <td>0</td>\n",
              "    </tr>\n",
              "  </tbody>\n",
              "</table>\n",
              "</div>"
            ],
            "text/plain": [
              "                                auction_id experiment  ... yes  no\n",
              "6912  dbd9e245-12dc-4ec4-8e48-87ffe5b27767    exposed  ...   0   0\n",
              "3156  65ef068c-46a3-4e00-8e8b-29008a04b7d3    control  ...   0   0\n",
              "3116  64d4b638-22fa-4c05-9cfd-0d73855b89c0    exposed  ...   0   0\n",
              "4894  9bd5f8df-0f62-49fa-9ff4-c8df3f11813d    control  ...   0   0\n",
              "615   130ed201-5a53-4622-bf54-46effe04a6c0    control  ...   0   0\n",
              "\n",
              "[5 rows x 9 columns]"
            ]
          },
          "metadata": {
            "tags": []
          },
          "execution_count": 69
        }
      ]
    },
    {
      "cell_type": "code",
      "metadata": {
        "id": "uPJiI6XOAWBJ",
        "colab_type": "code",
        "colab": {
          "base_uri": "https://localhost:8080/",
          "height": 47
        },
        "outputId": "bf1d9432-b38a-4cf5-b90b-648ac6450769"
      },
      "source": [
        "validate.head()"
      ],
      "execution_count": null,
      "outputs": [
        {
          "output_type": "execute_result",
          "data": {
            "text/html": [
              "<div>\n",
              "<style scoped>\n",
              "    .dataframe tbody tr th:only-of-type {\n",
              "        vertical-align: middle;\n",
              "    }\n",
              "\n",
              "    .dataframe tbody tr th {\n",
              "        vertical-align: top;\n",
              "    }\n",
              "\n",
              "    .dataframe thead th {\n",
              "        text-align: right;\n",
              "    }\n",
              "</style>\n",
              "<table border=\"1\" class=\"dataframe\">\n",
              "  <thead>\n",
              "    <tr style=\"text-align: right;\">\n",
              "      <th></th>\n",
              "      <th>auction_id</th>\n",
              "      <th>experiment</th>\n",
              "      <th>date</th>\n",
              "      <th>hour</th>\n",
              "      <th>device_make</th>\n",
              "      <th>platform_os</th>\n",
              "      <th>browser</th>\n",
              "      <th>yes</th>\n",
              "      <th>no</th>\n",
              "    </tr>\n",
              "  </thead>\n",
              "  <tbody>\n",
              "  </tbody>\n",
              "</table>\n",
              "</div>"
            ],
            "text/plain": [
              "Empty DataFrame\n",
              "Columns: [auction_id, experiment, date, hour, device_make, platform_os, browser, yes, no]\n",
              "Index: []"
            ]
          },
          "metadata": {
            "tags": []
          },
          "execution_count": 70
        }
      ]
    },
    {
      "cell_type": "code",
      "metadata": {
        "id": "iDoFPYQgAZOy",
        "colab_type": "code",
        "colab": {
          "base_uri": "https://localhost:8080/",
          "height": 191
        },
        "outputId": "18bfada9-b463-417c-f00e-fec14d58625b"
      },
      "source": [
        "test.head()"
      ],
      "execution_count": null,
      "outputs": [
        {
          "output_type": "execute_result",
          "data": {
            "text/html": [
              "<div>\n",
              "<style scoped>\n",
              "    .dataframe tbody tr th:only-of-type {\n",
              "        vertical-align: middle;\n",
              "    }\n",
              "\n",
              "    .dataframe tbody tr th {\n",
              "        vertical-align: top;\n",
              "    }\n",
              "\n",
              "    .dataframe thead th {\n",
              "        text-align: right;\n",
              "    }\n",
              "</style>\n",
              "<table border=\"1\" class=\"dataframe\">\n",
              "  <thead>\n",
              "    <tr style=\"text-align: right;\">\n",
              "      <th></th>\n",
              "      <th>auction_id</th>\n",
              "      <th>experiment</th>\n",
              "      <th>date</th>\n",
              "      <th>hour</th>\n",
              "      <th>device_make</th>\n",
              "      <th>platform_os</th>\n",
              "      <th>browser</th>\n",
              "      <th>yes</th>\n",
              "      <th>no</th>\n",
              "    </tr>\n",
              "  </thead>\n",
              "  <tbody>\n",
              "    <tr>\n",
              "      <th>4590</th>\n",
              "      <td>925543a9-3aa4-4121-96e3-7fb642868771</td>\n",
              "      <td>control</td>\n",
              "      <td>2020-07-04</td>\n",
              "      <td>1</td>\n",
              "      <td>Generic Smartphone</td>\n",
              "      <td>6</td>\n",
              "      <td>Chrome Mobile</td>\n",
              "      <td>0</td>\n",
              "      <td>0</td>\n",
              "    </tr>\n",
              "    <tr>\n",
              "      <th>5732</th>\n",
              "      <td>b4b8c6cb-7e69-4513-a101-58617a02a66a</td>\n",
              "      <td>control</td>\n",
              "      <td>2020-07-10</td>\n",
              "      <td>2</td>\n",
              "      <td>Generic Smartphone</td>\n",
              "      <td>6</td>\n",
              "      <td>Chrome Mobile</td>\n",
              "      <td>0</td>\n",
              "      <td>0</td>\n",
              "    </tr>\n",
              "    <tr>\n",
              "      <th>1884</th>\n",
              "      <td>3e33f885-d358-4738-aab9-78244052fc21</td>\n",
              "      <td>exposed</td>\n",
              "      <td>2020-07-06</td>\n",
              "      <td>3</td>\n",
              "      <td>Samsung SM-G970F</td>\n",
              "      <td>6</td>\n",
              "      <td>Samsung Internet</td>\n",
              "      <td>1</td>\n",
              "      <td>0</td>\n",
              "    </tr>\n",
              "    <tr>\n",
              "      <th>1148</th>\n",
              "      <td>258eabe4-89ef-4ded-9323-916316cd4d19</td>\n",
              "      <td>exposed</td>\n",
              "      <td>2020-07-09</td>\n",
              "      <td>4</td>\n",
              "      <td>Samsung SM-G973F</td>\n",
              "      <td>6</td>\n",
              "      <td>Chrome Mobile WebView</td>\n",
              "      <td>0</td>\n",
              "      <td>0</td>\n",
              "    </tr>\n",
              "    <tr>\n",
              "      <th>7636</th>\n",
              "      <td>f1b1b1bb-dc80-4775-a3ba-4ce61a74af3f</td>\n",
              "      <td>control</td>\n",
              "      <td>2020-07-05</td>\n",
              "      <td>16</td>\n",
              "      <td>Generic Smartphone</td>\n",
              "      <td>6</td>\n",
              "      <td>Chrome Mobile</td>\n",
              "      <td>0</td>\n",
              "      <td>0</td>\n",
              "    </tr>\n",
              "  </tbody>\n",
              "</table>\n",
              "</div>"
            ],
            "text/plain": [
              "                                auction_id experiment  ... yes  no\n",
              "4590  925543a9-3aa4-4121-96e3-7fb642868771    control  ...   0   0\n",
              "5732  b4b8c6cb-7e69-4513-a101-58617a02a66a    control  ...   0   0\n",
              "1884  3e33f885-d358-4738-aab9-78244052fc21    exposed  ...   1   0\n",
              "1148  258eabe4-89ef-4ded-9323-916316cd4d19    exposed  ...   0   0\n",
              "7636  f1b1b1bb-dc80-4775-a3ba-4ce61a74af3f    control  ...   0   0\n",
              "\n",
              "[5 rows x 9 columns]"
            ]
          },
          "metadata": {
            "tags": []
          },
          "execution_count": 71
        }
      ]
    },
    {
      "cell_type": "markdown",
      "metadata": {
        "id": "b6B_7Xbw8838",
        "colab_type": "text"
      },
      "source": [
        "np.split will split at 70% of the length of the shuffled array, then 67% of length (which is an additional 20.1% of data), thus leaving a remaining 10% of the data. "
      ]
    },
    {
      "cell_type": "markdown",
      "metadata": {
        "id": "GLV_j3ES9aES",
        "colab_type": "text"
      },
      "source": [
        "Based on the reading material provided, apply machine learning to the training data. Train a machine learning model using 5-fold cross validation the following 3 different algorithms:\n",
        "* Logistic Regression\n",
        "* Decision Trees\n",
        "* XGBoost"
      ]
    },
    {
      "cell_type": "code",
      "metadata": {
        "id": "aee4l5W1zJOL",
        "colab_type": "code",
        "colab": {}
      },
      "source": [
        "MC_data = df2[[\"experiment\", \"device_make\", \"browser\",\"yes\"]]\n",
        "MC_data.head()\n",
        "\n",
        "X = MC_data[['experiment','device_make', 'browser']]\n",
        "Y = MC_data['yes']"
      ],
      "execution_count": 39,
      "outputs": []
    },
    {
      "cell_type": "code",
      "metadata": {
        "id": "7CQCphQl7j1p",
        "colab_type": "code",
        "colab": {
          "base_uri": "https://localhost:8080/",
          "height": 191
        },
        "outputId": "e167c341-c8ba-4bdd-c1bc-ce562abb37f2"
      },
      "source": [
        "from sklearn import linear_model\n",
        "from sklearn import preprocessing\n",
        "\n",
        "# Initialize label encoder categorical data to assign numeric values to categorical variables for the purpose of training model with machine learning\n",
        "label_encoder = preprocessing.LabelEncoder()\n",
        "encoded_exp = label_encoder.fit_transform(MC_data['experiment'])\n",
        "encoded_dev = label_encoder.fit_transform(MC_data['device_make'])\n",
        "encoded_brw = label_encoder.fit_transform(MC_data['browser'])\n",
        "X_features = pd.DataFrame([encoded_exp,encoded_dev, encoded_brw]).T\n",
        "X_features.columns = ['experiment','device_make','browser']\n",
        "X_features.head()"
      ],
      "execution_count": 40,
      "outputs": [
        {
          "output_type": "execute_result",
          "data": {
            "text/html": [
              "<div>\n",
              "<style scoped>\n",
              "    .dataframe tbody tr th:only-of-type {\n",
              "        vertical-align: middle;\n",
              "    }\n",
              "\n",
              "    .dataframe tbody tr th {\n",
              "        vertical-align: top;\n",
              "    }\n",
              "\n",
              "    .dataframe thead th {\n",
              "        text-align: right;\n",
              "    }\n",
              "</style>\n",
              "<table border=\"1\" class=\"dataframe\">\n",
              "  <thead>\n",
              "    <tr style=\"text-align: right;\">\n",
              "      <th></th>\n",
              "      <th>experiment</th>\n",
              "      <th>device_make</th>\n",
              "      <th>browser</th>\n",
              "    </tr>\n",
              "  </thead>\n",
              "  <tbody>\n",
              "    <tr>\n",
              "      <th>0</th>\n",
              "      <td>1</td>\n",
              "      <td>46</td>\n",
              "      <td>2</td>\n",
              "    </tr>\n",
              "    <tr>\n",
              "      <th>1</th>\n",
              "      <td>1</td>\n",
              "      <td>46</td>\n",
              "      <td>2</td>\n",
              "    </tr>\n",
              "    <tr>\n",
              "      <th>2</th>\n",
              "      <td>1</td>\n",
              "      <td>29</td>\n",
              "      <td>3</td>\n",
              "    </tr>\n",
              "    <tr>\n",
              "      <th>3</th>\n",
              "      <td>0</td>\n",
              "      <td>137</td>\n",
              "      <td>6</td>\n",
              "    </tr>\n",
              "    <tr>\n",
              "      <th>4</th>\n",
              "      <td>0</td>\n",
              "      <td>46</td>\n",
              "      <td>2</td>\n",
              "    </tr>\n",
              "  </tbody>\n",
              "</table>\n",
              "</div>"
            ],
            "text/plain": [
              "   experiment  device_make  browser\n",
              "0           1           46        2\n",
              "1           1           46        2\n",
              "2           1           29        3\n",
              "3           0          137        6\n",
              "4           0           46        2"
            ]
          },
          "metadata": {
            "tags": []
          },
          "execution_count": 40
        }
      ]
    },
    {
      "cell_type": "markdown",
      "metadata": {
        "id": "f3Zb2LyLGlHh",
        "colab_type": "text"
      },
      "source": [
        "We see from the above that our three column featues: experiment, device_make and browser have been assigned numerical values"
      ]
    },
    {
      "cell_type": "code",
      "metadata": {
        "id": "dcRkM57j7tRT",
        "colab_type": "code",
        "colab": {
          "base_uri": "https://localhost:8080/",
          "height": 191
        },
        "outputId": "e26d69fb-7c33-4096-8ad7-63c960f7c1aa"
      },
      "source": [
        "# Split dataset into train and test set\n",
        "from sklearn.model_selection import train_test_split\n",
        "X_train, X_test, Y_train, Y_test = train_test_split(X_features,Y,test_size=0.10,random_state=0)\n",
        "\n",
        "#train dataset for x variable\n",
        "X_train.head()"
      ],
      "execution_count": 41,
      "outputs": [
        {
          "output_type": "execute_result",
          "data": {
            "text/html": [
              "<div>\n",
              "<style scoped>\n",
              "    .dataframe tbody tr th:only-of-type {\n",
              "        vertical-align: middle;\n",
              "    }\n",
              "\n",
              "    .dataframe tbody tr th {\n",
              "        vertical-align: top;\n",
              "    }\n",
              "\n",
              "    .dataframe thead th {\n",
              "        text-align: right;\n",
              "    }\n",
              "</style>\n",
              "<table border=\"1\" class=\"dataframe\">\n",
              "  <thead>\n",
              "    <tr style=\"text-align: right;\">\n",
              "      <th></th>\n",
              "      <th>experiment</th>\n",
              "      <th>device_make</th>\n",
              "      <th>browser</th>\n",
              "    </tr>\n",
              "  </thead>\n",
              "  <tbody>\n",
              "    <tr>\n",
              "      <th>4250</th>\n",
              "      <td>1</td>\n",
              "      <td>46</td>\n",
              "      <td>2</td>\n",
              "    </tr>\n",
              "    <tr>\n",
              "      <th>2549</th>\n",
              "      <td>0</td>\n",
              "      <td>46</td>\n",
              "      <td>2</td>\n",
              "    </tr>\n",
              "    <tr>\n",
              "      <th>3790</th>\n",
              "      <td>1</td>\n",
              "      <td>101</td>\n",
              "      <td>14</td>\n",
              "    </tr>\n",
              "    <tr>\n",
              "      <th>1995</th>\n",
              "      <td>1</td>\n",
              "      <td>64</td>\n",
              "      <td>3</td>\n",
              "    </tr>\n",
              "    <tr>\n",
              "      <th>7344</th>\n",
              "      <td>1</td>\n",
              "      <td>90</td>\n",
              "      <td>3</td>\n",
              "    </tr>\n",
              "  </tbody>\n",
              "</table>\n",
              "</div>"
            ],
            "text/plain": [
              "      experiment  device_make  browser\n",
              "4250           1           46        2\n",
              "2549           0           46        2\n",
              "3790           1          101       14\n",
              "1995           1           64        3\n",
              "7344           1           90        3"
            ]
          },
          "metadata": {
            "tags": []
          },
          "execution_count": 41
        }
      ]
    },
    {
      "cell_type": "code",
      "metadata": {
        "id": "iYdBmGxUHBYU",
        "colab_type": "code",
        "colab": {
          "base_uri": "https://localhost:8080/",
          "height": 191
        },
        "outputId": "51a2b70f-4a9d-4b10-cd2c-2fe0298f8837"
      },
      "source": [
        "#test dataset for x variable\n",
        "X_test.head()"
      ],
      "execution_count": null,
      "outputs": [
        {
          "output_type": "execute_result",
          "data": {
            "text/html": [
              "<div>\n",
              "<style scoped>\n",
              "    .dataframe tbody tr th:only-of-type {\n",
              "        vertical-align: middle;\n",
              "    }\n",
              "\n",
              "    .dataframe tbody tr th {\n",
              "        vertical-align: top;\n",
              "    }\n",
              "\n",
              "    .dataframe thead th {\n",
              "        text-align: right;\n",
              "    }\n",
              "</style>\n",
              "<table border=\"1\" class=\"dataframe\">\n",
              "  <thead>\n",
              "    <tr style=\"text-align: right;\">\n",
              "      <th></th>\n",
              "      <th>experiment</th>\n",
              "      <th>device_make</th>\n",
              "      <th>browser</th>\n",
              "    </tr>\n",
              "  </thead>\n",
              "  <tbody>\n",
              "    <tr>\n",
              "      <th>5988</th>\n",
              "      <td>1</td>\n",
              "      <td>46</td>\n",
              "      <td>2</td>\n",
              "    </tr>\n",
              "    <tr>\n",
              "      <th>7490</th>\n",
              "      <td>1</td>\n",
              "      <td>184</td>\n",
              "      <td>3</td>\n",
              "    </tr>\n",
              "    <tr>\n",
              "      <th>1811</th>\n",
              "      <td>0</td>\n",
              "      <td>46</td>\n",
              "      <td>2</td>\n",
              "    </tr>\n",
              "    <tr>\n",
              "      <th>3121</th>\n",
              "      <td>0</td>\n",
              "      <td>46</td>\n",
              "      <td>2</td>\n",
              "    </tr>\n",
              "    <tr>\n",
              "      <th>4459</th>\n",
              "      <td>1</td>\n",
              "      <td>46</td>\n",
              "      <td>2</td>\n",
              "    </tr>\n",
              "  </tbody>\n",
              "</table>\n",
              "</div>"
            ],
            "text/plain": [
              "      experiment  device_make  browser\n",
              "5988           1           46        2\n",
              "7490           1          184        3\n",
              "1811           0           46        2\n",
              "3121           0           46        2\n",
              "4459           1           46        2"
            ]
          },
          "metadata": {
            "tags": []
          },
          "execution_count": 16
        }
      ]
    },
    {
      "cell_type": "markdown",
      "metadata": {
        "id": "gVwVOzaDDmEx",
        "colab_type": "text"
      },
      "source": [
        "Train a machine learning model using 5-fold cross validation:"
      ]
    },
    {
      "cell_type": "code",
      "metadata": {
        "id": "ThpYYa9d8Gg8",
        "colab_type": "code",
        "colab": {}
      },
      "source": [
        "from sklearn.model_selection import KFold\n",
        "def model_predictor(model, x, y):\n",
        "    scores = []\n",
        "    kf = KFold(n_splits=5, random_state=0, shuffle=True)\n",
        "    for train_index, test_index in kf.split(X_train):\n",
        "        KX_train, KX_test = X_train.iloc[train_index], X_train.iloc[test_index]\n",
        "        Ky_train, Ky_test = Y_train.iloc[train_index], Y_train.iloc[test_index]\n",
        "        trained_model = model.fit(KX_train, Ky_train)\n",
        "        scores.append(model.score(X = KX_test ,y = Ky_test))\n",
        "    return trained_model, scores"
      ],
      "execution_count": 42,
      "outputs": []
    },
    {
      "cell_type": "markdown",
      "metadata": {
        "id": "ZwCAdyofEAON",
        "colab_type": "text"
      },
      "source": [
        "Train a machine learning model using 5-fold cross validation the following 3 different algorithms:\n",
        "* Logistic Regression \n",
        "* Decision Trees\n",
        "* XGBoost\n"
      ]
    },
    {
      "cell_type": "code",
      "metadata": {
        "id": "LpCtr_HO8H7u",
        "colab_type": "code",
        "colab": {
          "base_uri": "https://localhost:8080/",
          "height": 66
        },
        "outputId": "68e32008-5873-412e-c173-5e0c23323c0a"
      },
      "source": [
        "# Initialize logistic regression model\n",
        "logReg_model = linear_model.LogisticRegression(solver='lbfgs')\n",
        "\n",
        "#Initialize decision tree\n",
        "from sklearn.tree import DecisionTreeClassifier\n",
        "tree_model = DecisionTreeClassifier()\n",
        "\n",
        "#initialize XGBoost\n",
        "!pip install xgboost\n",
        "import xgboost as xgb\n",
        "XGB_model = xgb.XGBClassifier()"
      ],
      "execution_count": 51,
      "outputs": [
        {
          "output_type": "stream",
          "text": [
            "Requirement already satisfied: xgboost in /usr/local/lib/python3.6/dist-packages (0.90)\n",
            "Requirement already satisfied: scipy in /usr/local/lib/python3.6/dist-packages (from xgboost) (1.4.1)\n",
            "Requirement already satisfied: numpy in /usr/local/lib/python3.6/dist-packages (from xgboost) (1.18.5)\n"
          ],
          "name": "stdout"
        }
      ]
    },
    {
      "cell_type": "markdown",
      "metadata": {
        "id": "9H2zuAcUJaDm",
        "colab_type": "text"
      },
      "source": [
        "## Logistic Regression Training Model"
      ]
    },
    {
      "cell_type": "code",
      "metadata": {
        "id": "1T-eph8yKTy3",
        "colab_type": "code",
        "colab": {
          "base_uri": "https://localhost:8080/",
          "height": 98
        },
        "outputId": "36e4dcd6-3ca5-46ac-af8e-71055b1622f7"
      },
      "source": [
        "#fit models, predict and determine scores\n",
        "#we put our train models x_train and y_train into the logistic regression model\n",
        "logReg_model_trained_model, logReg_model_scores,  = model_predictor(logReg_model, X_train, Y_train)\n",
        "logReg_model_trained_model"
      ],
      "execution_count": 53,
      "outputs": [
        {
          "output_type": "execute_result",
          "data": {
            "text/plain": [
              "LogisticRegression(C=1.0, class_weight=None, dual=False, fit_intercept=True,\n",
              "                   intercept_scaling=1, l1_ratio=None, max_iter=100,\n",
              "                   multi_class='auto', n_jobs=None, penalty='l2',\n",
              "                   random_state=None, solver='lbfgs', tol=0.0001, verbose=0,\n",
              "                   warm_start=False)"
            ]
          },
          "metadata": {
            "tags": []
          },
          "execution_count": 53
        }
      ]
    },
    {
      "cell_type": "code",
      "metadata": {
        "id": "gqX3JTVQNZwJ",
        "colab_type": "code",
        "colab": {
          "base_uri": "https://localhost:8080/",
          "height": 98
        },
        "outputId": "5aa4e811-97d5-41bc-9098-91c2e6e9ce5e"
      },
      "source": [
        "logReg_model_scores"
      ],
      "execution_count": 55,
      "outputs": [
        {
          "output_type": "execute_result",
          "data": {
            "text/plain": [
              "[0.9353507565337001,\n",
              " 0.9298486932599724,\n",
              " 0.9277854195323246,\n",
              " 0.9195323246217332,\n",
              " 0.9284239504473503]"
            ]
          },
          "metadata": {
            "tags": []
          },
          "execution_count": 55
        }
      ]
    },
    {
      "cell_type": "code",
      "metadata": {
        "id": "p0GwKtgc8gky",
        "colab_type": "code",
        "colab": {
          "base_uri": "https://localhost:8080/",
          "height": 66
        },
        "outputId": "cbd5fef6-d56d-4307-fa9f-ead9a2abbeff"
      },
      "source": [
        "#make predictions with validation set\n",
        "y_prediction = pd.DataFrame(log_model.predict(X_test), columns=[\"y_prediction\"])\n",
        "\n",
        "from sklearn.metrics import mean_squared_error\n",
        "rmse = np.sqrt(mean_squared_error(Y_test, y_prediction))\n",
        "\n",
        "print(\"mean scores computed\" + \" : \" + str(np.mean(logReg_model_scores)))\n",
        "print(\"std of scores computed\" + \" : \" + str(np.std(logReg_model_scores)))\n",
        "print(\"the loss function is\" + \" :  \"+ str(rmse))"
      ],
      "execution_count": 87,
      "outputs": [
        {
          "output_type": "stream",
          "text": [
            "mean scores computed : 0.9281882288790161\n",
            "std of scores computed : 0.0050833343959127255\n",
            "the loss function is :  0.2487592975524973\n"
          ],
          "name": "stdout"
        }
      ]
    },
    {
      "cell_type": "markdown",
      "metadata": {
        "id": "VWeI2SWHZHIQ",
        "colab_type": "text"
      },
      "source": [
        "In supervised machine learning algorithms, we want to minimize the error for each training example during the learning process. This is done using some optimization strategies like gradient descent. And this error comes from the loss function.\n",
        "\n",
        "Our loss function is 24.8% which is okay...."
      ]
    },
    {
      "cell_type": "markdown",
      "metadata": {
        "id": "z_acklJ5OmXK",
        "colab_type": "text"
      },
      "source": [
        "**Logistic Regression Model Evaluation using Confusion Matrix**\n",
        "\n",
        "* A confusion matrix is a table that is used to evaluate the performance of a classification model. You can also visualize the performance of an algorithm. The fundamental of a confusion matrix is the number of correct and incorrect predictions are summed up class-wise."
      ]
    },
    {
      "cell_type": "code",
      "metadata": {
        "id": "c71ia1FKOFZD",
        "colab_type": "code",
        "colab": {
          "base_uri": "https://localhost:8080/",
          "height": 50
        },
        "outputId": "56792e84-5cda-4251-ad1e-2ba8f9accf93"
      },
      "source": [
        "# import the metrics class\n",
        "from sklearn import metrics\n",
        "confusion_matrix = metrics.confusion_matrix(Y_test, y_prediction)\n",
        "confusion_matrix"
      ],
      "execution_count": 59,
      "outputs": [
        {
          "output_type": "execute_result",
          "data": {
            "text/plain": [
              "array([[758,   0],\n",
              "       [ 50,   0]])"
            ]
          },
          "metadata": {
            "tags": []
          },
          "execution_count": 59
        }
      ]
    },
    {
      "cell_type": "markdown",
      "metadata": {
        "id": "YW5pcsMqPVDo",
        "colab_type": "text"
      },
      "source": [
        "Here, we can see the confusion matrix in the form of the array object. The dimension of this matrix is 2*2 because this model is binary classification. You have two classes 0 and 1. Diagonal values represent accurate predictions, while non-diagonal elements are inaccurate predictions. In the output, 758 and 0 are actual predictions, and 50 and 0 are incorrect predictions."
      ]
    },
    {
      "cell_type": "markdown",
      "metadata": {
        "id": "P06eMTMfPjPi",
        "colab_type": "text"
      },
      "source": [
        "**Visualizing Confusion Matrix using Heatmap\n",
        "Let's visualize the results of the model in the form of a confusion matrix using matplotlib and seaborn.**"
      ]
    },
    {
      "cell_type": "code",
      "metadata": {
        "id": "fbj-8vf8PkMD",
        "colab_type": "code",
        "colab": {}
      },
      "source": [
        "# import required modules\n",
        "import numpy as np\n",
        "import matplotlib.pyplot as plt\n",
        "import seaborn as sns\n",
        "%matplotlib inline"
      ],
      "execution_count": 46,
      "outputs": []
    },
    {
      "cell_type": "code",
      "metadata": {
        "id": "R6SrYnczPsU6",
        "colab_type": "code",
        "colab": {
          "base_uri": "https://localhost:8080/",
          "height": 341
        },
        "outputId": "c0b9a3a0-65d0-4e7b-93c6-10a0592c9e36"
      },
      "source": [
        "class_names=[0,1] # name  of classes\n",
        "fig, ax = plt.subplots()\n",
        "tick_marks = np.arange(len(class_names))\n",
        "plt.xticks(tick_marks, class_names)\n",
        "plt.yticks(tick_marks, class_names)\n",
        "# create heatmap\n",
        "sns.heatmap(pd.DataFrame(confusion_matrix), annot=True, cmap=\"YlGnBu\" ,fmt='g')\n",
        "ax.xaxis.set_label_position(\"top\")\n",
        "plt.tight_layout()\n",
        "plt.title('Confusion matrix', y=1.1)\n",
        "plt.ylabel('Actual label')\n",
        "plt.xlabel('Predicted label')"
      ],
      "execution_count": 47,
      "outputs": [
        {
          "output_type": "execute_result",
          "data": {
            "text/plain": [
              "Text(0.5, 257.44, 'Predicted label')"
            ]
          },
          "metadata": {
            "tags": []
          },
          "execution_count": 47
        },
        {
          "output_type": "display_data",
          "data": {
            "image/png": "[encoded data removed]",
            "text/plain": [
              "<Figure size 432x288 with 2 Axes>"
            ]
          },
          "metadata": {
            "tags": [],
            "needs_background": "light"
          }
        }
      ]
    },
    {
      "cell_type": "code",
      "metadata": {
        "id": "IO3UnSI0U3OG",
        "colab_type": "code",
        "colab": {
          "base_uri": "https://localhost:8080/",
          "height": 33
        },
        "outputId": "a99a66a1-2362-422e-9737-1973e3139548"
      },
      "source": [
        "print(\"Accuracy:\",metrics.accuracy_score(Y_test, y_prediction))"
      ],
      "execution_count": 115,
      "outputs": [
        {
          "output_type": "stream",
          "text": [
            "Accuracy: 0.9381188118811881\n"
          ],
          "name": "stdout"
        }
      ]
    },
    {
      "cell_type": "markdown",
      "metadata": {
        "id": "6fbnW43lVIMf",
        "colab_type": "text"
      },
      "source": [
        "**Well, we got a classification rate of 93.81%, considered as good accuracy.**"
      ]
    },
    {
      "cell_type": "markdown",
      "metadata": {
        "id": "KhYKY7f5XnsA",
        "colab_type": "text"
      },
      "source": [
        "**Advantages of Logistic Regression**\n",
        "\n",
        "Because of its efficient and straightforward nature, doesn't require high computation power, easy to implement, easily interpretable, used widely by data analyst and scientist. Also, it doesn't require scaling of features. Logistic regression provides a probability score for observations."
      ]
    },
    {
      "cell_type": "markdown",
      "metadata": {
        "id": "I7W8H3YRXqpx",
        "colab_type": "text"
      },
      "source": [
        "**Disadvantages of Logistic Regression**\n",
        "\n",
        "Logistic regression is not able to handle a large number of categorical features/variables. It is vulnerable to overfitting. Also, can't solve the non-linear problem with the logistic regression that is why it requires a transformation of non-linear features. Logistic regression will not perform well with independent variables that are not correlated to the target variable and are very similar or correlated to each other."
      ]
    },
    {
      "cell_type": "markdown",
      "metadata": {
        "id": "67nibtZ9JiVW",
        "colab_type": "text"
      },
      "source": [
        "## Decision Trees Training Model"
      ]
    },
    {
      "cell_type": "markdown",
      "metadata": {
        "id": "hNc8uQtOc9Uu",
        "colab_type": "text"
      },
      "source": [
        "tree_model_trained_model"
      ]
    },
    {
      "cell_type": "code",
      "metadata": {
        "id": "FWXMhiRhc_Wd",
        "colab_type": "code",
        "colab": {
          "base_uri": "https://localhost:8080/",
          "height": 115
        },
        "outputId": "d7b18b75-8327-4190-d142-b276fa3d384b"
      },
      "source": [
        "tree_model_trained_model, tree_model_scores = model_predictor(tree_model, X_train, Y_train)\n",
        "tree_model_trained_model"
      ],
      "execution_count": 84,
      "outputs": [
        {
          "output_type": "execute_result",
          "data": {
            "text/plain": [
              "DecisionTreeClassifier(ccp_alpha=0.0, class_weight=None, criterion='gini',\n",
              "                       max_depth=None, max_features=None, max_leaf_nodes=None,\n",
              "                       min_impurity_decrease=0.0, min_impurity_split=None,\n",
              "                       min_samples_leaf=1, min_samples_split=2,\n",
              "                       min_weight_fraction_leaf=0.0, presort='deprecated',\n",
              "                       random_state=None, splitter='best')"
            ]
          },
          "metadata": {
            "tags": []
          },
          "execution_count": 84
        }
      ]
    },
    {
      "cell_type": "code",
      "metadata": {
        "id": "9KKdNDm_dCHB",
        "colab_type": "code",
        "colab": {
          "base_uri": "https://localhost:8080/",
          "height": 98
        },
        "outputId": "fccddbb0-e695-4161-b9ce-94426542d741"
      },
      "source": [
        "tree_model_scores"
      ],
      "execution_count": 85,
      "outputs": [
        {
          "output_type": "execute_result",
          "data": {
            "text/plain": [
              "[0.9305364511691885,\n",
              " 0.9243466299862448,\n",
              " 0.9243466299862448,\n",
              " 0.9188445667125172,\n",
              " 0.9249827942188575]"
            ]
          },
          "metadata": {
            "tags": []
          },
          "execution_count": 85
        }
      ]
    },
    {
      "cell_type": "code",
      "metadata": {
        "id": "x3OKxDbD8gc0",
        "colab_type": "code",
        "colab": {
          "base_uri": "https://localhost:8080/",
          "height": 82
        },
        "outputId": "e3996a95-e44f-4c72-f730-835ba18aea60"
      },
      "source": [
        "#make predictions with validation set\n",
        "y_prediction_tree = pd.DataFrame(tree_model.predict(X_test), columns=[\"y_pred\"])\n",
        "\n",
        "from sklearn.metrics import mean_squared_error\n",
        "rmse_tree = np.sqrt(mean_squared_error(Y_test, y_prediction_tree))\n",
        "\n",
        "print(\"mean scores computed\" + \" : \" +str(np.mean(tree_model_scores)))\n",
        "print(\"mean scores computed\" + \" : \" +str(np.std(tree_model_scores)))\n",
        "print(\"the loss function is\" + \" : \"+str(rmse_tree))\n",
        "\n",
        "#feature importance\n",
        "print(dict(zip(X_features.columns, tree_model_trained_model.feature_importances_)))"
      ],
      "execution_count": 86,
      "outputs": [
        {
          "output_type": "stream",
          "text": [
            "mean scores computed : 0.9246114144146105\n",
            "mean scores computed : 0.003705151481606406\n",
            "the loss function is : 0.26326209505561055\n",
            "{'experiment': 0.12040546764055521, 'device_make': 0.6764448988909756, 'browser': 0.20314963346846934}\n"
          ],
          "name": "stdout"
        }
      ]
    },
    {
      "cell_type": "markdown",
      "metadata": {
        "id": "ved-D0lVd4Wz",
        "colab_type": "text"
      },
      "source": [
        "In supervised machine learning algorithms, we want to minimize the error for each training example during the learning process. This is done using some optimization strategies like gradient descent. And this error comes from the loss function.\n",
        "\n",
        "Our loss function is 26.3% which is a little bit okay...."
      ]
    },
    {
      "cell_type": "markdown",
      "metadata": {
        "id": "epc-gHwNac6J",
        "colab_type": "text"
      },
      "source": [
        "**Decison Tree Model Evaluation using Confusion Matrix**\n",
        "\n",
        "A confusion matrix is a table that is used to evaluate the performance of a classification model. You can also visualize the performance of an algorithm. The fundamental of a confusion matrix is the number of correct and incorrect predictions are summed up class-wise."
      ]
    },
    {
      "cell_type": "code",
      "metadata": {
        "id": "y2V-VXR7aXcP",
        "colab_type": "code",
        "colab": {
          "base_uri": "https://localhost:8080/",
          "height": 50
        },
        "outputId": "33874c7a-5c1c-44ba-ee7b-92d10abbcdca"
      },
      "source": [
        "# import the metrics class\n",
        "from sklearn import metrics\n",
        "confusion_matrix_decisiontree = metrics.confusion_matrix(Y_test, y_p_tree)\n",
        "confusion_matrix_decisiontree"
      ],
      "execution_count": 77,
      "outputs": [
        {
          "output_type": "execute_result",
          "data": {
            "text/plain": [
              "array([[752,   6],\n",
              "       [ 50,   0]])"
            ]
          },
          "metadata": {
            "tags": []
          },
          "execution_count": 77
        }
      ]
    },
    {
      "cell_type": "markdown",
      "metadata": {
        "id": "X2eJvLnTbDYR",
        "colab_type": "text"
      },
      "source": [
        "Here, we can see the confusion matrix in the form of the array object. The dimension of this matrix is 2*2 because this model is binary classification. You have two classes 0 and 1. Diagonal values represent accurate predictions, while non-diagonal elements are inaccurate predictions. In the output, 752 and 0 are actual predictions, and 50 and 6 are incorrect predictions."
      ]
    },
    {
      "cell_type": "markdown",
      "metadata": {
        "id": "6oqq2X50bHby",
        "colab_type": "text"
      },
      "source": [
        "**Visualizing Confusion Matrix using Heatmap\n",
        "Let's visualize the results of the model in the form of a confusion matrix using matplotlib and seaborn.**"
      ]
    },
    {
      "cell_type": "code",
      "metadata": {
        "id": "g4abiZjKbd9R",
        "colab_type": "code",
        "colab": {
          "base_uri": "https://localhost:8080/",
          "height": 341
        },
        "outputId": "d7fe166e-14c0-42db-c560-25699350f689"
      },
      "source": [
        "class_names=[0,1] # name  of classes\n",
        "fig, ax = plt.subplots()\n",
        "tick_marks = np.arange(len(class_names))\n",
        "plt.xticks(tick_marks, class_names)\n",
        "plt.yticks(tick_marks, class_names)\n",
        "# create heatmap\n",
        "sns.heatmap(pd.DataFrame(confusion_matrix_decisiontree), annot=True, cmap=\"YlGnBu\" ,fmt='g')\n",
        "ax.xaxis.set_label_position(\"top\")\n",
        "plt.tight_layout()\n",
        "plt.title('Confusion matrix', y=1.1)\n",
        "plt.ylabel('Actual label')\n",
        "plt.xlabel('Predicted label')"
      ],
      "execution_count": 78,
      "outputs": [
        {
          "output_type": "execute_result",
          "data": {
            "text/plain": [
              "Text(0.5, 257.44, 'Predicted label')"
            ]
          },
          "metadata": {
            "tags": []
          },
          "execution_count": 78
        },
        {
          "output_type": "display_data",
          "data": {
            "image/png": "[encoded data removed]",
            "text/plain": [
              "<Figure size 432x288 with 2 Axes>"
            ]
          },
          "metadata": {
            "tags": [],
            "needs_background": "light"
          }
        }
      ]
    },
    {
      "cell_type": "code",
      "metadata": {
        "id": "c69QlCa4bpjC",
        "colab_type": "code",
        "colab": {
          "base_uri": "https://localhost:8080/",
          "height": 33
        },
        "outputId": "bd0f9ab0-8c3d-4466-83fb-bd8c0a86bce7"
      },
      "source": [
        "print(\"Accuracy:\",metrics.accuracy_score(Y_test, y_prediction_tree))"
      ],
      "execution_count": 114,
      "outputs": [
        {
          "output_type": "stream",
          "text": [
            "Accuracy: 0.9306930693069307\n"
          ],
          "name": "stdout"
        }
      ]
    },
    {
      "cell_type": "markdown",
      "metadata": {
        "id": "z94lmCBecPzC",
        "colab_type": "text"
      },
      "source": [
        "**Well, we got a classification rate of 93.06%, considered as good accuracy.**"
      ]
    },
    {
      "cell_type": "markdown",
      "metadata": {
        "id": "fZXI3__TJm0t",
        "colab_type": "text"
      },
      "source": [
        "## XGBoost Training Model"
      ]
    },
    {
      "cell_type": "code",
      "metadata": {
        "id": "okyr1Yxu8r0E",
        "colab_type": "code",
        "colab": {
          "base_uri": "https://localhost:8080/",
          "height": 82
        },
        "outputId": "deb32d1c-b9a4-4995-d3d3-b157dbfa1050"
      },
      "source": [
        "XGB_model_trained_model, XGB_model_scores = model_predictor(XGB_model, X_train, Y_train)\n",
        "print(\"mean scores computed\" + \":\" +str(np.mean(XGB_model_scores)))\n",
        "print(\"mean scores computed\" + \":\" +str(np.std(XGB_model_scores)))\n",
        "\n",
        "#make predictions with validation set\n",
        "y_prediction_XGB = pd.DataFrame(XGB_model.predict(X_test), columns=[\"y_pred\"])\n",
        "com_XGB = pd.concat([Y_test,y_prediction_XGB], axis=1)\n",
        "com_XGB.head()\n",
        "from sklearn.metrics import mean_squared_error\n",
        "rmse_XGB = np.sqrt(mean_squared_error(Y_test, y_prediction_XGB))\n",
        "print(\"the loss function is\" + \": \" +str(rmse_XGB))\n",
        "#feature importance\n",
        "print(dict(zip(X_features.columns, XGB_model_trained_model.feature_importances_)))"
      ],
      "execution_count": 89,
      "outputs": [
        {
          "output_type": "stream",
          "text": [
            "mean scores computed:0.9281882288790161\n",
            "mean scores computed:0.0050833343959127255\n",
            "the loss function is: 0.2487592975524973\n",
            "{'experiment': 0.39267474, 'device_make': 0.4145345, 'browser': 0.19279072}\n"
          ],
          "name": "stdout"
        }
      ]
    },
    {
      "cell_type": "markdown",
      "metadata": {
        "id": "9X84nT5wd66G",
        "colab_type": "text"
      },
      "source": [
        "In supervised machine learning algorithms, we want to minimize the error for each training example during the learning process. This is done using some optimization strategies like gradient descent. And this error comes from the loss function.\n",
        "\n",
        "Our loss function is 24.8% which is a little bit okay...."
      ]
    },
    {
      "cell_type": "markdown",
      "metadata": {
        "id": "CIqGS7qVd-jo",
        "colab_type": "text"
      },
      "source": [
        "**XGBoost Model Evaluation using Confusion Matrix**\n",
        "\n",
        "A confusion matrix is a table that is used to evaluate the performance of a classification model. You can also visualize the performance of an algorithm. The fundamental of a confusion matrix is the number of correct and incorrect predictions are summed up class-wise."
      ]
    },
    {
      "cell_type": "code",
      "metadata": {
        "id": "DfHsjiWod6JX",
        "colab_type": "code",
        "colab": {
          "base_uri": "https://localhost:8080/",
          "height": 50
        },
        "outputId": "6b8064ae-fdef-4071-8c11-2f4a2ebaf9e9"
      },
      "source": [
        "# import the metrics class\n",
        "from sklearn import metrics\n",
        "confusion_matrix_xgboost = metrics.confusion_matrix(Y_test, y_prediction_XGB)\n",
        "confusion_matrix_xgboost"
      ],
      "execution_count": 91,
      "outputs": [
        {
          "output_type": "execute_result",
          "data": {
            "text/plain": [
              "array([[758,   0],\n",
              "       [ 50,   0]])"
            ]
          },
          "metadata": {
            "tags": []
          },
          "execution_count": 91
        }
      ]
    },
    {
      "cell_type": "markdown",
      "metadata": {
        "id": "vme2IquiebXe",
        "colab_type": "text"
      },
      "source": [
        "Here, we can see the confusion matrix in the form of the array object. The dimension of this matrix is 2*2 because this model is binary classification. You have two classes 0 and 1. Diagonal values represent accurate predictions, while non-diagonal elements are inaccurate predictions. In the output, 758 and 0 are actual predictions, and 50 and 0 are incorrect predictions."
      ]
    },
    {
      "cell_type": "markdown",
      "metadata": {
        "id": "97zxYBWYfA0k",
        "colab_type": "text"
      },
      "source": [
        "**Visualizing Confusion Matrix using Heatmap\n",
        "Let's visualize the results of the model in the form of a confusion matrix using matplotlib and seaborn.**"
      ]
    },
    {
      "cell_type": "code",
      "metadata": {
        "id": "qIgyxmslefCa",
        "colab_type": "code",
        "colab": {
          "base_uri": "https://localhost:8080/",
          "height": 341
        },
        "outputId": "83ddcbeb-d101-4a27-a63b-c09bdc80e330"
      },
      "source": [
        "class_names=[0,1] # name  of classes\n",
        "fig, ax = plt.subplots()\n",
        "tick_marks = np.arange(len(class_names))\n",
        "plt.xticks(tick_marks, class_names)\n",
        "plt.yticks(tick_marks, class_names)\n",
        "# create heatmap\n",
        "sns.heatmap(pd.DataFrame(confusion_matrix_xgboost), annot=True, cmap=\"YlGnBu\" ,fmt='g')\n",
        "ax.xaxis.set_label_position(\"top\")\n",
        "plt.tight_layout()\n",
        "plt.title('Confusion matrix', y=1.1)\n",
        "plt.ylabel('Actual label')\n",
        "plt.xlabel('Predicted label')"
      ],
      "execution_count": 92,
      "outputs": [
        {
          "output_type": "execute_result",
          "data": {
            "text/plain": [
              "Text(0.5, 257.44, 'Predicted label')"
            ]
          },
          "metadata": {
            "tags": []
          },
          "execution_count": 92
        },
        {
          "output_type": "display_data",
          "data": {
            "image/png": "[encoded data removed]",
            "text/plain": [
              "<Figure size 432x288 with 2 Axes>"
            ]
          },
          "metadata": {
            "tags": [],
            "needs_background": "light"
          }
        }
      ]
    },
    {
      "cell_type": "code",
      "metadata": {
        "id": "2ZupoKpSetrA",
        "colab_type": "code",
        "colab": {
          "base_uri": "https://localhost:8080/",
          "height": 33
        },
        "outputId": "38998fac-eb5f-4f09-dea6-fd6bfd86a91d"
      },
      "source": [
        "print(\"Accuracy:\",metrics.accuracy_score(Y_test, y_prediction_XGB))"
      ],
      "execution_count": 113,
      "outputs": [
        {
          "output_type": "stream",
          "text": [
            "Accuracy: 0.9381188118811881\n"
          ],
          "name": "stdout"
        }
      ]
    },
    {
      "cell_type": "markdown",
      "metadata": {
        "id": "bmhzfdiHesdF",
        "colab_type": "text"
      },
      "source": [
        "**Well, we got a classification rate of 93.81%, considered as good accuracy.**"
      ]
    },
    {
      "cell_type": "markdown",
      "metadata": {
        "id": "7pv8XjNo6aMC",
        "colab_type": "text"
      },
      "source": [
        "#### Compute feature importance - what’s driving the model? Which parameters are important predictors for the different ML models? What contributes to the goal of gaining more “Yes” results?\n",
        "\n",
        "#### - **From above, it seen that name of the type of device the user has is a strong predictor driving the model. It therefore contributes more to the goal of gaining more “yes” results.**"
      ]
    },
    {
      "cell_type": "markdown",
      "metadata": {
        "id": "0IclcLKv1Qdh",
        "colab_type": "text"
      },
      "source": [
        "#### Which data features are relevant to predicting the target variable?\n",
        "\n",
        "#### - **The data feature with the highest number of scores which is the device_make.**"
      ]
    },
    {
      "cell_type": "markdown",
      "metadata": {
        "id": "fnW8L2mv2FlI",
        "colab_type": "text"
      },
      "source": [
        "#### Explain what the difference is between using A/B testing to test a hypothesis vs using Machine learning to learn the viability of the same effect?\n",
        "\n",
        "####- **A major issue with traditional, statistical-inference approaches to A/B Testing is that it only compares 2 variables - an experiment/control to an outcome. The problem is that customer behavior is vastly more complex than this. Customers take different paths, spend different amounts of time on the site, come from different backgrounds (age, gender, interests), and more. This is where Machine Learning excels - generating insights from complex systems.**\n",
        "\n"
      ]
    },
    {
      "cell_type": "markdown",
      "metadata": {
        "id": "S_z1_1CF2NX_",
        "colab_type": "text"
      },
      "source": [
        "#### Explain the purpose of training using k-fold cross validation instead of using the whole data to train the ML models?\n",
        "\n",
        "#### - **Evaluating a Machine Learning model can be quite tricky. Usually, we split the data set into training and testing sets and use the training set to train the model and testing set to test the model. We then evaluate the model performance based on an error metric to determine the accuracy of the model. This method however, is not very reliable as the accuracy obtained for one test set can be very different to the accuracy obtained for a different test set. K-fold Cross Validation(CV) provides a solution to this problem by dividing the data into folds and ensuring that each fold is used as a testing set at some point. This article will explain in simple terms what K-Fold CV is and how to use the sklearn library to perform K-Fold CV.**"
      ]
    },
    {
      "cell_type": "markdown",
      "metadata": {
        "id": "lM4WqPV22SPM",
        "colab_type": "text"
      },
      "source": [
        "#### What information do you gain using the Machine Learning approach that you couldn’t obtain using A/B testing?\n",
        "\n",
        "#### - **I got to understand that the system is driven by Pageviews and Clicks. Statistical Inference would not have identified these drivers. Machine Learning did.**\n",
        "\n",
        "#### - **Providing a direction and magnitude of the experiment - We saw that Experiment = 1 drops enrollments by -17.6 Enrollments Per Day in the Linear Regression. We saw similar drops in the Decision Tree rules. Statistical inference would not have identified magnitude and direction. Only whether or not the Experiment had an effect.**"
      ]
    },
    {
      "cell_type": "markdown",
      "metadata": {
        "id": "deDpkA-yfHTw",
        "colab_type": "text"
      },
      "source": [
        "#### Overall Result"
      ]
    },
    {
      "cell_type": "markdown",
      "metadata": {
        "id": "6bsipZGRfd0c",
        "colab_type": "text"
      },
      "source": [
        "#### * **I noticed that for all the three machine learning classifiers (logistic regression, decision tree and xgboost), we got the almost the same results:**\n",
        "\n",
        "* ### Our models predicted accurately about 93% of the time and We got a loss function of about 24% for each model.\n",
        "\n",
        "* ### I saw that in the classical and sequential tests, the null hypothesis was rejected that the exposed group is less than or equal to the conrol group. Control: users who have been shown a dummy ad while Exposed:  users who have been shown a creative, an online interactive ad, with the SmartAd brand. \n",
        "\n",
        "* ### We can conclude that the users shown a creative, an online interactive ad are more than the users who had been shown a dummy advert. "
      ]
    }
  ]
}